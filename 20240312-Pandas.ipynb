{
 "cells": [
  {
   "cell_type": "markdown",
   "id": "153275dd-8a91-4911-b127-20119c2a0e44",
   "metadata": {},
   "source": [
    "# Pandas簡介\n",
    "\n",
    "* Series\n",
    "* DataFrame"
   ]
  },
  {
   "cell_type": "code",
   "execution_count": 1,
   "id": "a6739472-f34f-4be3-83c7-5316f3fd1a12",
   "metadata": {
    "tags": []
   },
   "outputs": [],
   "source": [
    "import yfinance as yf"
   ]
  },
  {
   "cell_type": "code",
   "execution_count": 3,
   "id": "b583cd95-966d-4efb-9c61-e263f75019c4",
   "metadata": {
    "tags": []
   },
   "outputs": [],
   "source": [
    "import requests"
   ]
  },
  {
   "cell_type": "markdown",
   "id": "39f6d559-a110-4a1b-8953-b97e88989b3a",
   "metadata": {},
   "source": [
    "## 下載股票歷史資料"
   ]
  },
  {
   "cell_type": "code",
   "execution_count": 4,
   "id": "effe0c16-34e6-49ee-bc0e-3d4d4b0a08d0",
   "metadata": {
    "tags": []
   },
   "outputs": [
    {
     "name": "stderr",
     "output_type": "stream",
     "text": [
      "C:\\Users\\victor\\anaconda3\\Lib\\site-packages\\urllib3\\connectionpool.py:1056: InsecureRequestWarning: Unverified HTTPS request is being made to host 'query2.finance.yahoo.com'. Adding certificate verification is strongly advised. See: https://urllib3.readthedocs.io/en/1.26.x/advanced-usage.html#ssl-warnings\n",
      "  warnings.warn(\n"
     ]
    },
    {
     "name": "stdout",
     "output_type": "stream",
     "text": [
      "[*********************100%%**********************]  1 of 1 completed\n"
     ]
    }
   ],
   "source": [
    "session = requests.Session()\n",
    "session.verify = False\n",
    "df = yf.download('TSLA', session=session)"
   ]
  },
  {
   "cell_type": "markdown",
   "id": "95a2ee40-2b10-4554-a52e-2fcc419054f6",
   "metadata": {},
   "source": [
    "## 檢視資料"
   ]
  },
  {
   "cell_type": "code",
   "execution_count": 5,
   "id": "673ee4b7-47f7-4dcd-86eb-098c8a50248e",
   "metadata": {
    "tags": []
   },
   "outputs": [
    {
     "data": {
      "text/html": [
       "<div>\n",
       "<style scoped>\n",
       "    .dataframe tbody tr th:only-of-type {\n",
       "        vertical-align: middle;\n",
       "    }\n",
       "\n",
       "    .dataframe tbody tr th {\n",
       "        vertical-align: top;\n",
       "    }\n",
       "\n",
       "    .dataframe thead th {\n",
       "        text-align: right;\n",
       "    }\n",
       "</style>\n",
       "<table border=\"1\" class=\"dataframe\">\n",
       "  <thead>\n",
       "    <tr style=\"text-align: right;\">\n",
       "      <th></th>\n",
       "      <th>Open</th>\n",
       "      <th>High</th>\n",
       "      <th>Low</th>\n",
       "      <th>Close</th>\n",
       "      <th>Adj Close</th>\n",
       "      <th>Volume</th>\n",
       "    </tr>\n",
       "    <tr>\n",
       "      <th>Date</th>\n",
       "      <th></th>\n",
       "      <th></th>\n",
       "      <th></th>\n",
       "      <th></th>\n",
       "      <th></th>\n",
       "      <th></th>\n",
       "    </tr>\n",
       "  </thead>\n",
       "  <tbody>\n",
       "    <tr>\n",
       "      <th>2010-06-29</th>\n",
       "      <td>1.266667</td>\n",
       "      <td>1.666667</td>\n",
       "      <td>1.169333</td>\n",
       "      <td>1.592667</td>\n",
       "      <td>1.592667</td>\n",
       "      <td>281494500</td>\n",
       "    </tr>\n",
       "    <tr>\n",
       "      <th>2010-06-30</th>\n",
       "      <td>1.719333</td>\n",
       "      <td>2.028000</td>\n",
       "      <td>1.553333</td>\n",
       "      <td>1.588667</td>\n",
       "      <td>1.588667</td>\n",
       "      <td>257806500</td>\n",
       "    </tr>\n",
       "    <tr>\n",
       "      <th>2010-07-01</th>\n",
       "      <td>1.666667</td>\n",
       "      <td>1.728000</td>\n",
       "      <td>1.351333</td>\n",
       "      <td>1.464000</td>\n",
       "      <td>1.464000</td>\n",
       "      <td>123282000</td>\n",
       "    </tr>\n",
       "    <tr>\n",
       "      <th>2010-07-02</th>\n",
       "      <td>1.533333</td>\n",
       "      <td>1.540000</td>\n",
       "      <td>1.247333</td>\n",
       "      <td>1.280000</td>\n",
       "      <td>1.280000</td>\n",
       "      <td>77097000</td>\n",
       "    </tr>\n",
       "    <tr>\n",
       "      <th>2010-07-06</th>\n",
       "      <td>1.333333</td>\n",
       "      <td>1.333333</td>\n",
       "      <td>1.055333</td>\n",
       "      <td>1.074000</td>\n",
       "      <td>1.074000</td>\n",
       "      <td>103003500</td>\n",
       "    </tr>\n",
       "  </tbody>\n",
       "</table>\n",
       "</div>"
      ],
      "text/plain": [
       "                Open      High       Low     Close  Adj Close     Volume\n",
       "Date                                                                    \n",
       "2010-06-29  1.266667  1.666667  1.169333  1.592667   1.592667  281494500\n",
       "2010-06-30  1.719333  2.028000  1.553333  1.588667   1.588667  257806500\n",
       "2010-07-01  1.666667  1.728000  1.351333  1.464000   1.464000  123282000\n",
       "2010-07-02  1.533333  1.540000  1.247333  1.280000   1.280000   77097000\n",
       "2010-07-06  1.333333  1.333333  1.055333  1.074000   1.074000  103003500"
      ]
     },
     "execution_count": 5,
     "metadata": {},
     "output_type": "execute_result"
    }
   ],
   "source": [
    "df.head()"
   ]
  },
  {
   "cell_type": "code",
   "execution_count": 7,
   "id": "1cd86610-e9ee-428a-85e9-9d7e628266c5",
   "metadata": {
    "tags": []
   },
   "outputs": [
    {
     "data": {
      "text/html": [
       "<div>\n",
       "<style scoped>\n",
       "    .dataframe tbody tr th:only-of-type {\n",
       "        vertical-align: middle;\n",
       "    }\n",
       "\n",
       "    .dataframe tbody tr th {\n",
       "        vertical-align: top;\n",
       "    }\n",
       "\n",
       "    .dataframe thead th {\n",
       "        text-align: right;\n",
       "    }\n",
       "</style>\n",
       "<table border=\"1\" class=\"dataframe\">\n",
       "  <thead>\n",
       "    <tr style=\"text-align: right;\">\n",
       "      <th></th>\n",
       "      <th>Open</th>\n",
       "      <th>High</th>\n",
       "      <th>Low</th>\n",
       "      <th>Close</th>\n",
       "      <th>Adj Close</th>\n",
       "      <th>Volume</th>\n",
       "    </tr>\n",
       "    <tr>\n",
       "      <th>Date</th>\n",
       "      <th></th>\n",
       "      <th></th>\n",
       "      <th></th>\n",
       "      <th></th>\n",
       "      <th></th>\n",
       "      <th></th>\n",
       "    </tr>\n",
       "  </thead>\n",
       "  <tbody>\n",
       "    <tr>\n",
       "      <th>2010-06-29</th>\n",
       "      <td>1.266667</td>\n",
       "      <td>1.666667</td>\n",
       "      <td>1.169333</td>\n",
       "      <td>1.592667</td>\n",
       "      <td>1.592667</td>\n",
       "      <td>281494500</td>\n",
       "    </tr>\n",
       "    <tr>\n",
       "      <th>2010-06-30</th>\n",
       "      <td>1.719333</td>\n",
       "      <td>2.028000</td>\n",
       "      <td>1.553333</td>\n",
       "      <td>1.588667</td>\n",
       "      <td>1.588667</td>\n",
       "      <td>257806500</td>\n",
       "    </tr>\n",
       "    <tr>\n",
       "      <th>2010-07-01</th>\n",
       "      <td>1.666667</td>\n",
       "      <td>1.728000</td>\n",
       "      <td>1.351333</td>\n",
       "      <td>1.464000</td>\n",
       "      <td>1.464000</td>\n",
       "      <td>123282000</td>\n",
       "    </tr>\n",
       "  </tbody>\n",
       "</table>\n",
       "</div>"
      ],
      "text/plain": [
       "                Open      High       Low     Close  Adj Close     Volume\n",
       "Date                                                                    \n",
       "2010-06-29  1.266667  1.666667  1.169333  1.592667   1.592667  281494500\n",
       "2010-06-30  1.719333  2.028000  1.553333  1.588667   1.588667  257806500\n",
       "2010-07-01  1.666667  1.728000  1.351333  1.464000   1.464000  123282000"
      ]
     },
     "execution_count": 7,
     "metadata": {},
     "output_type": "execute_result"
    }
   ],
   "source": [
    "df.head(3)"
   ]
  },
  {
   "cell_type": "code",
   "execution_count": 8,
   "id": "961fc0d5-4585-4dc8-9fb8-cceea051f87c",
   "metadata": {
    "tags": []
   },
   "outputs": [
    {
     "data": {
      "text/html": [
       "<div>\n",
       "<style scoped>\n",
       "    .dataframe tbody tr th:only-of-type {\n",
       "        vertical-align: middle;\n",
       "    }\n",
       "\n",
       "    .dataframe tbody tr th {\n",
       "        vertical-align: top;\n",
       "    }\n",
       "\n",
       "    .dataframe thead th {\n",
       "        text-align: right;\n",
       "    }\n",
       "</style>\n",
       "<table border=\"1\" class=\"dataframe\">\n",
       "  <thead>\n",
       "    <tr style=\"text-align: right;\">\n",
       "      <th></th>\n",
       "      <th>Open</th>\n",
       "      <th>High</th>\n",
       "      <th>Low</th>\n",
       "      <th>Close</th>\n",
       "      <th>Adj Close</th>\n",
       "      <th>Volume</th>\n",
       "    </tr>\n",
       "    <tr>\n",
       "      <th>Date</th>\n",
       "      <th></th>\n",
       "      <th></th>\n",
       "      <th></th>\n",
       "      <th></th>\n",
       "      <th></th>\n",
       "      <th></th>\n",
       "    </tr>\n",
       "  </thead>\n",
       "  <tbody>\n",
       "    <tr>\n",
       "      <th>2010-06-29</th>\n",
       "      <td>1.266667</td>\n",
       "      <td>1.666667</td>\n",
       "      <td>1.169333</td>\n",
       "      <td>1.592667</td>\n",
       "      <td>1.592667</td>\n",
       "      <td>281494500</td>\n",
       "    </tr>\n",
       "    <tr>\n",
       "      <th>2010-06-30</th>\n",
       "      <td>1.719333</td>\n",
       "      <td>2.028000</td>\n",
       "      <td>1.553333</td>\n",
       "      <td>1.588667</td>\n",
       "      <td>1.588667</td>\n",
       "      <td>257806500</td>\n",
       "    </tr>\n",
       "    <tr>\n",
       "      <th>2010-07-01</th>\n",
       "      <td>1.666667</td>\n",
       "      <td>1.728000</td>\n",
       "      <td>1.351333</td>\n",
       "      <td>1.464000</td>\n",
       "      <td>1.464000</td>\n",
       "      <td>123282000</td>\n",
       "    </tr>\n",
       "    <tr>\n",
       "      <th>2010-07-02</th>\n",
       "      <td>1.533333</td>\n",
       "      <td>1.540000</td>\n",
       "      <td>1.247333</td>\n",
       "      <td>1.280000</td>\n",
       "      <td>1.280000</td>\n",
       "      <td>77097000</td>\n",
       "    </tr>\n",
       "    <tr>\n",
       "      <th>2010-07-06</th>\n",
       "      <td>1.333333</td>\n",
       "      <td>1.333333</td>\n",
       "      <td>1.055333</td>\n",
       "      <td>1.074000</td>\n",
       "      <td>1.074000</td>\n",
       "      <td>103003500</td>\n",
       "    </tr>\n",
       "  </tbody>\n",
       "</table>\n",
       "</div>"
      ],
      "text/plain": [
       "                Open      High       Low     Close  Adj Close     Volume\n",
       "Date                                                                    \n",
       "2010-06-29  1.266667  1.666667  1.169333  1.592667   1.592667  281494500\n",
       "2010-06-30  1.719333  2.028000  1.553333  1.588667   1.588667  257806500\n",
       "2010-07-01  1.666667  1.728000  1.351333  1.464000   1.464000  123282000\n",
       "2010-07-02  1.533333  1.540000  1.247333  1.280000   1.280000   77097000\n",
       "2010-07-06  1.333333  1.333333  1.055333  1.074000   1.074000  103003500"
      ]
     },
     "execution_count": 8,
     "metadata": {},
     "output_type": "execute_result"
    }
   ],
   "source": [
    "df[:5]"
   ]
  },
  {
   "cell_type": "code",
   "execution_count": 6,
   "id": "d7d05c7a-0c76-432d-bf2d-3d4affdcf96b",
   "metadata": {
    "tags": []
   },
   "outputs": [
    {
     "data": {
      "text/html": [
       "<div>\n",
       "<style scoped>\n",
       "    .dataframe tbody tr th:only-of-type {\n",
       "        vertical-align: middle;\n",
       "    }\n",
       "\n",
       "    .dataframe tbody tr th {\n",
       "        vertical-align: top;\n",
       "    }\n",
       "\n",
       "    .dataframe thead th {\n",
       "        text-align: right;\n",
       "    }\n",
       "</style>\n",
       "<table border=\"1\" class=\"dataframe\">\n",
       "  <thead>\n",
       "    <tr style=\"text-align: right;\">\n",
       "      <th></th>\n",
       "      <th>Open</th>\n",
       "      <th>High</th>\n",
       "      <th>Low</th>\n",
       "      <th>Close</th>\n",
       "      <th>Adj Close</th>\n",
       "      <th>Volume</th>\n",
       "    </tr>\n",
       "    <tr>\n",
       "      <th>Date</th>\n",
       "      <th></th>\n",
       "      <th></th>\n",
       "      <th></th>\n",
       "      <th></th>\n",
       "      <th></th>\n",
       "      <th></th>\n",
       "    </tr>\n",
       "  </thead>\n",
       "  <tbody>\n",
       "    <tr>\n",
       "      <th>2024-03-05</th>\n",
       "      <td>183.050003</td>\n",
       "      <td>184.589996</td>\n",
       "      <td>177.570007</td>\n",
       "      <td>180.740005</td>\n",
       "      <td>180.740005</td>\n",
       "      <td>119660800</td>\n",
       "    </tr>\n",
       "    <tr>\n",
       "      <th>2024-03-06</th>\n",
       "      <td>179.990005</td>\n",
       "      <td>181.580002</td>\n",
       "      <td>173.699997</td>\n",
       "      <td>176.539993</td>\n",
       "      <td>176.539993</td>\n",
       "      <td>107920900</td>\n",
       "    </tr>\n",
       "    <tr>\n",
       "      <th>2024-03-07</th>\n",
       "      <td>174.350006</td>\n",
       "      <td>180.039993</td>\n",
       "      <td>173.699997</td>\n",
       "      <td>178.649994</td>\n",
       "      <td>178.649994</td>\n",
       "      <td>102129000</td>\n",
       "    </tr>\n",
       "    <tr>\n",
       "      <th>2024-03-08</th>\n",
       "      <td>181.500000</td>\n",
       "      <td>182.729996</td>\n",
       "      <td>174.699997</td>\n",
       "      <td>175.339996</td>\n",
       "      <td>175.339996</td>\n",
       "      <td>85315300</td>\n",
       "    </tr>\n",
       "    <tr>\n",
       "      <th>2024-03-11</th>\n",
       "      <td>175.449997</td>\n",
       "      <td>182.869995</td>\n",
       "      <td>174.800003</td>\n",
       "      <td>177.770004</td>\n",
       "      <td>177.770004</td>\n",
       "      <td>85211900</td>\n",
       "    </tr>\n",
       "  </tbody>\n",
       "</table>\n",
       "</div>"
      ],
      "text/plain": [
       "                  Open        High         Low       Close   Adj Close  \\\n",
       "Date                                                                     \n",
       "2024-03-05  183.050003  184.589996  177.570007  180.740005  180.740005   \n",
       "2024-03-06  179.990005  181.580002  173.699997  176.539993  176.539993   \n",
       "2024-03-07  174.350006  180.039993  173.699997  178.649994  178.649994   \n",
       "2024-03-08  181.500000  182.729996  174.699997  175.339996  175.339996   \n",
       "2024-03-11  175.449997  182.869995  174.800003  177.770004  177.770004   \n",
       "\n",
       "               Volume  \n",
       "Date                   \n",
       "2024-03-05  119660800  \n",
       "2024-03-06  107920900  \n",
       "2024-03-07  102129000  \n",
       "2024-03-08   85315300  \n",
       "2024-03-11   85211900  "
      ]
     },
     "execution_count": 6,
     "metadata": {},
     "output_type": "execute_result"
    }
   ],
   "source": [
    "df.tail()"
   ]
  },
  {
   "cell_type": "code",
   "execution_count": 12,
   "id": "5ee84ddf-0655-461d-9869-3a3c494e720d",
   "metadata": {
    "tags": []
   },
   "outputs": [
    {
     "name": "stdout",
     "output_type": "stream",
     "text": [
      "<class 'pandas.core.frame.DataFrame'>\n",
      "DatetimeIndex: 3448 entries, 2010-06-29 to 2024-03-11\n",
      "Data columns (total 6 columns):\n",
      " #   Column     Non-Null Count  Dtype  \n",
      "---  ------     --------------  -----  \n",
      " 0   Open       3448 non-null   float64\n",
      " 1   High       3448 non-null   float64\n",
      " 2   Low        3448 non-null   float64\n",
      " 3   Close      3448 non-null   float64\n",
      " 4   Adj Close  3448 non-null   float64\n",
      " 5   Volume     3448 non-null   int64  \n",
      "dtypes: float64(5), int64(1)\n",
      "memory usage: 188.6 KB\n"
     ]
    }
   ],
   "source": [
    "df.info()"
   ]
  },
  {
   "cell_type": "markdown",
   "id": "7736b781-3c40-45be-bc9e-f647acb9132c",
   "metadata": {
    "tags": []
   },
   "source": [
    "## 讀取單一欄位資料"
   ]
  },
  {
   "cell_type": "code",
   "execution_count": 11,
   "id": "394b33c9-029f-48c5-bae0-a1c30de57124",
   "metadata": {
    "tags": []
   },
   "outputs": [
    {
     "data": {
      "text/plain": [
       "pandas.core.frame.DataFrame"
      ]
     },
     "execution_count": 11,
     "metadata": {},
     "output_type": "execute_result"
    }
   ],
   "source": [
    "type(df)"
   ]
  },
  {
   "cell_type": "code",
   "execution_count": 9,
   "id": "a7029880-2d09-4293-9479-57adabece320",
   "metadata": {
    "tags": []
   },
   "outputs": [
    {
     "data": {
      "text/plain": [
       "Date\n",
       "2010-06-29      1.592667\n",
       "2010-06-30      1.588667\n",
       "2010-07-01      1.464000\n",
       "2010-07-02      1.280000\n",
       "2010-07-06      1.074000\n",
       "                 ...    \n",
       "2024-03-05    180.740005\n",
       "2024-03-06    176.539993\n",
       "2024-03-07    178.649994\n",
       "2024-03-08    175.339996\n",
       "2024-03-11    177.770004\n",
       "Name: Close, Length: 3448, dtype: float64"
      ]
     },
     "execution_count": 9,
     "metadata": {},
     "output_type": "execute_result"
    }
   ],
   "source": [
    "df['Close']"
   ]
  },
  {
   "cell_type": "code",
   "execution_count": 10,
   "id": "20245523-120f-48c0-afb8-4ba43016ef4a",
   "metadata": {
    "tags": []
   },
   "outputs": [
    {
     "data": {
      "text/plain": [
       "pandas.core.series.Series"
      ]
     },
     "execution_count": 10,
     "metadata": {},
     "output_type": "execute_result"
    }
   ],
   "source": [
    "type(df['Close'])"
   ]
  },
  {
   "cell_type": "markdown",
   "id": "269c1d21-96c4-416f-a620-0b2176864cda",
   "metadata": {},
   "source": [
    "## 讀取多個欄位的資料"
   ]
  },
  {
   "cell_type": "code",
   "execution_count": 14,
   "id": "e247c7b2-f923-455a-9953-79f7418b0a98",
   "metadata": {
    "tags": []
   },
   "outputs": [
    {
     "data": {
      "text/html": [
       "<div>\n",
       "<style scoped>\n",
       "    .dataframe tbody tr th:only-of-type {\n",
       "        vertical-align: middle;\n",
       "    }\n",
       "\n",
       "    .dataframe tbody tr th {\n",
       "        vertical-align: top;\n",
       "    }\n",
       "\n",
       "    .dataframe thead th {\n",
       "        text-align: right;\n",
       "    }\n",
       "</style>\n",
       "<table border=\"1\" class=\"dataframe\">\n",
       "  <thead>\n",
       "    <tr style=\"text-align: right;\">\n",
       "      <th></th>\n",
       "      <th>Open</th>\n",
       "      <th>Close</th>\n",
       "    </tr>\n",
       "    <tr>\n",
       "      <th>Date</th>\n",
       "      <th></th>\n",
       "      <th></th>\n",
       "    </tr>\n",
       "  </thead>\n",
       "  <tbody>\n",
       "    <tr>\n",
       "      <th>2010-06-29</th>\n",
       "      <td>1.266667</td>\n",
       "      <td>1.592667</td>\n",
       "    </tr>\n",
       "    <tr>\n",
       "      <th>2010-06-30</th>\n",
       "      <td>1.719333</td>\n",
       "      <td>1.588667</td>\n",
       "    </tr>\n",
       "    <tr>\n",
       "      <th>2010-07-01</th>\n",
       "      <td>1.666667</td>\n",
       "      <td>1.464000</td>\n",
       "    </tr>\n",
       "    <tr>\n",
       "      <th>2010-07-02</th>\n",
       "      <td>1.533333</td>\n",
       "      <td>1.280000</td>\n",
       "    </tr>\n",
       "    <tr>\n",
       "      <th>2010-07-06</th>\n",
       "      <td>1.333333</td>\n",
       "      <td>1.074000</td>\n",
       "    </tr>\n",
       "  </tbody>\n",
       "</table>\n",
       "</div>"
      ],
      "text/plain": [
       "                Open     Close\n",
       "Date                          \n",
       "2010-06-29  1.266667  1.592667\n",
       "2010-06-30  1.719333  1.588667\n",
       "2010-07-01  1.666667  1.464000\n",
       "2010-07-02  1.533333  1.280000\n",
       "2010-07-06  1.333333  1.074000"
      ]
     },
     "execution_count": 14,
     "metadata": {},
     "output_type": "execute_result"
    }
   ],
   "source": [
    "df[['Open', 'Close']].head()"
   ]
  },
  {
   "cell_type": "code",
   "execution_count": 15,
   "id": "f5b715d9-ed5f-4909-a2d4-b63ab539bfa6",
   "metadata": {
    "tags": []
   },
   "outputs": [
    {
     "data": {
      "text/html": [
       "<div>\n",
       "<style scoped>\n",
       "    .dataframe tbody tr th:only-of-type {\n",
       "        vertical-align: middle;\n",
       "    }\n",
       "\n",
       "    .dataframe tbody tr th {\n",
       "        vertical-align: top;\n",
       "    }\n",
       "\n",
       "    .dataframe thead th {\n",
       "        text-align: right;\n",
       "    }\n",
       "</style>\n",
       "<table border=\"1\" class=\"dataframe\">\n",
       "  <thead>\n",
       "    <tr style=\"text-align: right;\">\n",
       "      <th></th>\n",
       "      <th>Close</th>\n",
       "    </tr>\n",
       "    <tr>\n",
       "      <th>Date</th>\n",
       "      <th></th>\n",
       "    </tr>\n",
       "  </thead>\n",
       "  <tbody>\n",
       "    <tr>\n",
       "      <th>2010-06-29</th>\n",
       "      <td>1.592667</td>\n",
       "    </tr>\n",
       "    <tr>\n",
       "      <th>2010-06-30</th>\n",
       "      <td>1.588667</td>\n",
       "    </tr>\n",
       "    <tr>\n",
       "      <th>2010-07-01</th>\n",
       "      <td>1.464000</td>\n",
       "    </tr>\n",
       "    <tr>\n",
       "      <th>2010-07-02</th>\n",
       "      <td>1.280000</td>\n",
       "    </tr>\n",
       "    <tr>\n",
       "      <th>2010-07-06</th>\n",
       "      <td>1.074000</td>\n",
       "    </tr>\n",
       "  </tbody>\n",
       "</table>\n",
       "</div>"
      ],
      "text/plain": [
       "               Close\n",
       "Date                \n",
       "2010-06-29  1.592667\n",
       "2010-06-30  1.588667\n",
       "2010-07-01  1.464000\n",
       "2010-07-02  1.280000\n",
       "2010-07-06  1.074000"
      ]
     },
     "execution_count": 15,
     "metadata": {},
     "output_type": "execute_result"
    }
   ],
   "source": [
    "df[['Close']].head()"
   ]
  },
  {
   "cell_type": "code",
   "execution_count": 16,
   "id": "3aaba961-33c2-445f-ac29-9e086951f993",
   "metadata": {
    "tags": []
   },
   "outputs": [
    {
     "data": {
      "text/plain": [
       "pandas.core.frame.DataFrame"
      ]
     },
     "execution_count": 16,
     "metadata": {},
     "output_type": "execute_result"
    }
   ],
   "source": [
    "type(df[['Close']])"
   ]
  },
  {
   "cell_type": "markdown",
   "id": "c26a743d-b778-426b-9976-72c9ac917014",
   "metadata": {},
   "source": [
    "## 計算投資報酬率"
   ]
  },
  {
   "cell_type": "code",
   "execution_count": 17,
   "id": "ca538c9e-dff2-4d87-8b0a-21cb09b479a4",
   "metadata": {
    "tags": []
   },
   "outputs": [
    {
     "data": {
      "text/plain": [
       "Date\n",
       "2010-06-29      1.592667\n",
       "2010-06-30      1.588667\n",
       "2010-07-01      1.464000\n",
       "2010-07-02      1.280000\n",
       "2010-07-06      1.074000\n",
       "                 ...    \n",
       "2024-03-05    180.740005\n",
       "2024-03-06    176.539993\n",
       "2024-03-07    178.649994\n",
       "2024-03-08    175.339996\n",
       "2024-03-11    177.770004\n",
       "Name: Close, Length: 3448, dtype: float64"
      ]
     },
     "execution_count": 17,
     "metadata": {},
     "output_type": "execute_result"
    }
   ],
   "source": [
    "df['Close']"
   ]
  },
  {
   "cell_type": "code",
   "execution_count": 18,
   "id": "73f10755-ff65-4ce4-b4fb-f5268e05560d",
   "metadata": {
    "tags": []
   },
   "outputs": [
    {
     "data": {
      "text/plain": [
       "1.5926669836044312"
      ]
     },
     "execution_count": 18,
     "metadata": {},
     "output_type": "execute_result"
    }
   ],
   "source": [
    "df['Close'][0]"
   ]
  },
  {
   "cell_type": "code",
   "execution_count": 19,
   "id": "9669adee-5563-4dcb-bfa5-d8e087838a6e",
   "metadata": {
    "tags": []
   },
   "outputs": [
    {
     "data": {
      "text/plain": [
       "177.77000427246094"
      ]
     },
     "execution_count": 19,
     "metadata": {},
     "output_type": "execute_result"
    }
   ],
   "source": [
    "df['Close'][-1]"
   ]
  },
  {
   "cell_type": "code",
   "execution_count": 20,
   "id": "72269396-d627-4289-bcb1-7adf2621a725",
   "metadata": {
    "tags": []
   },
   "outputs": [
    {
     "data": {
      "text/plain": [
       "111.61781219959883"
      ]
     },
     "execution_count": 20,
     "metadata": {},
     "output_type": "execute_result"
    }
   ],
   "source": [
    "df['Close'][-1]/df['Close'][0]"
   ]
  },
  {
   "cell_type": "markdown",
   "id": "d01ca3c2-6cb3-44c4-aaf2-b6d3e8c9d888",
   "metadata": {},
   "source": [
    "## 2018年，年初買進，持有到年底的投資報酬率"
   ]
  },
  {
   "cell_type": "code",
   "execution_count": 23,
   "id": "c177abed-8b30-4455-b07f-72d6a689a201",
   "metadata": {
    "tags": []
   },
   "outputs": [
    {
     "data": {
      "text/html": [
       "<div>\n",
       "<style scoped>\n",
       "    .dataframe tbody tr th:only-of-type {\n",
       "        vertical-align: middle;\n",
       "    }\n",
       "\n",
       "    .dataframe tbody tr th {\n",
       "        vertical-align: top;\n",
       "    }\n",
       "\n",
       "    .dataframe thead th {\n",
       "        text-align: right;\n",
       "    }\n",
       "</style>\n",
       "<table border=\"1\" class=\"dataframe\">\n",
       "  <thead>\n",
       "    <tr style=\"text-align: right;\">\n",
       "      <th></th>\n",
       "      <th>Open</th>\n",
       "      <th>High</th>\n",
       "      <th>Low</th>\n",
       "      <th>Close</th>\n",
       "      <th>Adj Close</th>\n",
       "      <th>Volume</th>\n",
       "    </tr>\n",
       "    <tr>\n",
       "      <th>Date</th>\n",
       "      <th></th>\n",
       "      <th></th>\n",
       "      <th></th>\n",
       "      <th></th>\n",
       "      <th></th>\n",
       "      <th></th>\n",
       "    </tr>\n",
       "  </thead>\n",
       "  <tbody>\n",
       "    <tr>\n",
       "      <th>2018-01-02</th>\n",
       "      <td>20.799999</td>\n",
       "      <td>21.474001</td>\n",
       "      <td>20.733334</td>\n",
       "      <td>21.368668</td>\n",
       "      <td>21.368668</td>\n",
       "      <td>65283000</td>\n",
       "    </tr>\n",
       "    <tr>\n",
       "      <th>2018-01-03</th>\n",
       "      <td>21.400000</td>\n",
       "      <td>21.683332</td>\n",
       "      <td>21.036667</td>\n",
       "      <td>21.150000</td>\n",
       "      <td>21.150000</td>\n",
       "      <td>67822500</td>\n",
       "    </tr>\n",
       "    <tr>\n",
       "      <th>2018-01-04</th>\n",
       "      <td>20.858000</td>\n",
       "      <td>21.236668</td>\n",
       "      <td>20.378668</td>\n",
       "      <td>20.974667</td>\n",
       "      <td>20.974667</td>\n",
       "      <td>149194500</td>\n",
       "    </tr>\n",
       "    <tr>\n",
       "      <th>2018-01-05</th>\n",
       "      <td>21.108000</td>\n",
       "      <td>21.149332</td>\n",
       "      <td>20.799999</td>\n",
       "      <td>21.105333</td>\n",
       "      <td>21.105333</td>\n",
       "      <td>68868000</td>\n",
       "    </tr>\n",
       "    <tr>\n",
       "      <th>2018-01-08</th>\n",
       "      <td>21.066668</td>\n",
       "      <td>22.468000</td>\n",
       "      <td>21.033333</td>\n",
       "      <td>22.427334</td>\n",
       "      <td>22.427334</td>\n",
       "      <td>147891000</td>\n",
       "    </tr>\n",
       "    <tr>\n",
       "      <th>...</th>\n",
       "      <td>...</td>\n",
       "      <td>...</td>\n",
       "      <td>...</td>\n",
       "      <td>...</td>\n",
       "      <td>...</td>\n",
       "      <td>...</td>\n",
       "    </tr>\n",
       "    <tr>\n",
       "      <th>2018-12-24</th>\n",
       "      <td>20.900000</td>\n",
       "      <td>20.966667</td>\n",
       "      <td>19.680000</td>\n",
       "      <td>19.692667</td>\n",
       "      <td>19.692667</td>\n",
       "      <td>83398500</td>\n",
       "    </tr>\n",
       "    <tr>\n",
       "      <th>2018-12-26</th>\n",
       "      <td>20.000000</td>\n",
       "      <td>21.798000</td>\n",
       "      <td>19.606001</td>\n",
       "      <td>21.739332</td>\n",
       "      <td>21.739332</td>\n",
       "      <td>122446500</td>\n",
       "    </tr>\n",
       "    <tr>\n",
       "      <th>2018-12-27</th>\n",
       "      <td>21.322666</td>\n",
       "      <td>21.478001</td>\n",
       "      <td>20.100000</td>\n",
       "      <td>21.075333</td>\n",
       "      <td>21.075333</td>\n",
       "      <td>128626500</td>\n",
       "    </tr>\n",
       "    <tr>\n",
       "      <th>2018-12-28</th>\n",
       "      <td>21.540001</td>\n",
       "      <td>22.416000</td>\n",
       "      <td>21.227333</td>\n",
       "      <td>22.257999</td>\n",
       "      <td>22.257999</td>\n",
       "      <td>149085000</td>\n",
       "    </tr>\n",
       "    <tr>\n",
       "      <th>2018-12-31</th>\n",
       "      <td>22.519333</td>\n",
       "      <td>22.614000</td>\n",
       "      <td>21.684000</td>\n",
       "      <td>22.186666</td>\n",
       "      <td>22.186666</td>\n",
       "      <td>94534500</td>\n",
       "    </tr>\n",
       "  </tbody>\n",
       "</table>\n",
       "<p>251 rows × 6 columns</p>\n",
       "</div>"
      ],
      "text/plain": [
       "                 Open       High        Low      Close  Adj Close     Volume\n",
       "Date                                                                        \n",
       "2018-01-02  20.799999  21.474001  20.733334  21.368668  21.368668   65283000\n",
       "2018-01-03  21.400000  21.683332  21.036667  21.150000  21.150000   67822500\n",
       "2018-01-04  20.858000  21.236668  20.378668  20.974667  20.974667  149194500\n",
       "2018-01-05  21.108000  21.149332  20.799999  21.105333  21.105333   68868000\n",
       "2018-01-08  21.066668  22.468000  21.033333  22.427334  22.427334  147891000\n",
       "...               ...        ...        ...        ...        ...        ...\n",
       "2018-12-24  20.900000  20.966667  19.680000  19.692667  19.692667   83398500\n",
       "2018-12-26  20.000000  21.798000  19.606001  21.739332  21.739332  122446500\n",
       "2018-12-27  21.322666  21.478001  20.100000  21.075333  21.075333  128626500\n",
       "2018-12-28  21.540001  22.416000  21.227333  22.257999  22.257999  149085000\n",
       "2018-12-31  22.519333  22.614000  21.684000  22.186666  22.186666   94534500\n",
       "\n",
       "[251 rows x 6 columns]"
      ]
     },
     "execution_count": 23,
     "metadata": {},
     "output_type": "execute_result"
    }
   ],
   "source": [
    "df.loc['2018']"
   ]
  },
  {
   "cell_type": "code",
   "execution_count": 24,
   "id": "a0d71bd9-2075-4b81-b7f6-ab8f64f90d38",
   "metadata": {
    "tags": []
   },
   "outputs": [
    {
     "data": {
      "text/plain": [
       "Date\n",
       "2018-01-02    21.368668\n",
       "2018-01-03    21.150000\n",
       "2018-01-04    20.974667\n",
       "2018-01-05    21.105333\n",
       "2018-01-08    22.427334\n",
       "                ...    \n",
       "2018-12-24    19.692667\n",
       "2018-12-26    21.739332\n",
       "2018-12-27    21.075333\n",
       "2018-12-28    22.257999\n",
       "2018-12-31    22.186666\n",
       "Name: Close, Length: 251, dtype: float64"
      ]
     },
     "execution_count": 24,
     "metadata": {},
     "output_type": "execute_result"
    }
   ],
   "source": [
    "df.loc['2018']['Close']"
   ]
  },
  {
   "cell_type": "code",
   "execution_count": 25,
   "id": "4c541468-b883-4068-a76e-2570ec0cb99e",
   "metadata": {
    "tags": []
   },
   "outputs": [
    {
     "data": {
      "text/plain": [
       "1.038280294369463"
      ]
     },
     "execution_count": 25,
     "metadata": {},
     "output_type": "execute_result"
    }
   ],
   "source": [
    "df.loc['2018']['Close'][-1]/df.loc['2018']['Close'][0]"
   ]
  },
  {
   "cell_type": "markdown",
   "id": "8d9f30f3-52c5-45bd-9a96-235377c2d457",
   "metadata": {},
   "source": [
    "## 檢視2010年開始，每一年的投資報酬率"
   ]
  },
  {
   "cell_type": "code",
   "execution_count": 29,
   "id": "441d6ccb-c8ec-4ab0-bc59-f8121bd23010",
   "metadata": {
    "tags": []
   },
   "outputs": [
    {
     "name": "stdout",
     "output_type": "stream",
     "text": [
      "2010 ==> 1.1146919382326346\n",
      "2011 ==> 1.0728773440103994\n",
      "2012 ==> 1.2061965396956114\n",
      "2013 ==> 4.2542431147774264\n",
      "2014 ==> 1.4817454450219967\n",
      "2015 ==> 1.0943869435813898\n",
      "2016 ==> 0.9564925633701342\n",
      "2017 ==> 1.4348587551998524\n",
      "2018 ==> 1.038280294369463\n",
      "2019 ==> 1.3489293766859665\n",
      "2020 ==> 8.200506467423963\n",
      "2021 ==> 1.4481001179959765\n",
      "2022 ==> 0.3080064689288968\n",
      "2023 ==> 2.298612388852389\n",
      "2024 ==> 0.7156026309587331\n"
     ]
    }
   ],
   "source": [
    "for i in range(2010, 2025):\n",
    "    ret = df.loc[str(i)]['Close'][-1]/df.loc[str(i)]['Close'][0]\n",
    "    print(i, '==>',ret)"
   ]
  },
  {
   "cell_type": "markdown",
   "id": "74aaf0ce-de28-4ff1-a3b9-b0e598a824bf",
   "metadata": {},
   "source": [
    "## 檢視一下 NVDA 的資料"
   ]
  },
  {
   "cell_type": "code",
   "execution_count": 30,
   "id": "59feea87-d599-487c-b6fe-d019c4140116",
   "metadata": {
    "tags": []
   },
   "outputs": [
    {
     "name": "stderr",
     "output_type": "stream",
     "text": [
      "C:\\Users\\victor\\anaconda3\\Lib\\site-packages\\urllib3\\connectionpool.py:1056: InsecureRequestWarning: Unverified HTTPS request is being made to host 'query2.finance.yahoo.com'. Adding certificate verification is strongly advised. See: https://urllib3.readthedocs.io/en/1.26.x/advanced-usage.html#ssl-warnings\n",
      "  warnings.warn(\n"
     ]
    },
    {
     "name": "stdout",
     "output_type": "stream",
     "text": [
      "[*********************100%%**********************]  1 of 1 completed\n"
     ]
    }
   ],
   "source": [
    "df = yf.download('NVDA', session=session)"
   ]
  },
  {
   "cell_type": "code",
   "execution_count": 31,
   "id": "06f4911b-a0da-4754-ab33-44b12e631d79",
   "metadata": {
    "tags": []
   },
   "outputs": [
    {
     "data": {
      "text/html": [
       "<div>\n",
       "<style scoped>\n",
       "    .dataframe tbody tr th:only-of-type {\n",
       "        vertical-align: middle;\n",
       "    }\n",
       "\n",
       "    .dataframe tbody tr th {\n",
       "        vertical-align: top;\n",
       "    }\n",
       "\n",
       "    .dataframe thead th {\n",
       "        text-align: right;\n",
       "    }\n",
       "</style>\n",
       "<table border=\"1\" class=\"dataframe\">\n",
       "  <thead>\n",
       "    <tr style=\"text-align: right;\">\n",
       "      <th></th>\n",
       "      <th>Open</th>\n",
       "      <th>High</th>\n",
       "      <th>Low</th>\n",
       "      <th>Close</th>\n",
       "      <th>Adj Close</th>\n",
       "      <th>Volume</th>\n",
       "    </tr>\n",
       "    <tr>\n",
       "      <th>Date</th>\n",
       "      <th></th>\n",
       "      <th></th>\n",
       "      <th></th>\n",
       "      <th></th>\n",
       "      <th></th>\n",
       "      <th></th>\n",
       "    </tr>\n",
       "  </thead>\n",
       "  <tbody>\n",
       "    <tr>\n",
       "      <th>1999-01-22</th>\n",
       "      <td>0.437500</td>\n",
       "      <td>0.488281</td>\n",
       "      <td>0.388021</td>\n",
       "      <td>0.410156</td>\n",
       "      <td>0.376237</td>\n",
       "      <td>271468800</td>\n",
       "    </tr>\n",
       "    <tr>\n",
       "      <th>1999-01-25</th>\n",
       "      <td>0.442708</td>\n",
       "      <td>0.458333</td>\n",
       "      <td>0.410156</td>\n",
       "      <td>0.453125</td>\n",
       "      <td>0.415652</td>\n",
       "      <td>51048000</td>\n",
       "    </tr>\n",
       "    <tr>\n",
       "      <th>1999-01-26</th>\n",
       "      <td>0.458333</td>\n",
       "      <td>0.467448</td>\n",
       "      <td>0.411458</td>\n",
       "      <td>0.417969</td>\n",
       "      <td>0.383404</td>\n",
       "      <td>34320000</td>\n",
       "    </tr>\n",
       "    <tr>\n",
       "      <th>1999-01-27</th>\n",
       "      <td>0.419271</td>\n",
       "      <td>0.429688</td>\n",
       "      <td>0.395833</td>\n",
       "      <td>0.416667</td>\n",
       "      <td>0.382210</td>\n",
       "      <td>24436800</td>\n",
       "    </tr>\n",
       "    <tr>\n",
       "      <th>1999-01-28</th>\n",
       "      <td>0.416667</td>\n",
       "      <td>0.419271</td>\n",
       "      <td>0.412760</td>\n",
       "      <td>0.415365</td>\n",
       "      <td>0.381015</td>\n",
       "      <td>22752000</td>\n",
       "    </tr>\n",
       "    <tr>\n",
       "      <th>...</th>\n",
       "      <td>...</td>\n",
       "      <td>...</td>\n",
       "      <td>...</td>\n",
       "      <td>...</td>\n",
       "      <td>...</td>\n",
       "      <td>...</td>\n",
       "    </tr>\n",
       "    <tr>\n",
       "      <th>2024-03-05</th>\n",
       "      <td>852.700012</td>\n",
       "      <td>860.969971</td>\n",
       "      <td>834.169983</td>\n",
       "      <td>859.640015</td>\n",
       "      <td>859.640015</td>\n",
       "      <td>52063900</td>\n",
       "    </tr>\n",
       "    <tr>\n",
       "      <th>2024-03-06</th>\n",
       "      <td>880.219971</td>\n",
       "      <td>897.239990</td>\n",
       "      <td>870.299988</td>\n",
       "      <td>887.000000</td>\n",
       "      <td>887.000000</td>\n",
       "      <td>58252000</td>\n",
       "    </tr>\n",
       "    <tr>\n",
       "      <th>2024-03-07</th>\n",
       "      <td>901.580017</td>\n",
       "      <td>927.669983</td>\n",
       "      <td>896.020020</td>\n",
       "      <td>926.690002</td>\n",
       "      <td>926.690002</td>\n",
       "      <td>60811900</td>\n",
       "    </tr>\n",
       "    <tr>\n",
       "      <th>2024-03-08</th>\n",
       "      <td>951.380005</td>\n",
       "      <td>974.000000</td>\n",
       "      <td>865.059998</td>\n",
       "      <td>875.280029</td>\n",
       "      <td>875.280029</td>\n",
       "      <td>113299600</td>\n",
       "    </tr>\n",
       "    <tr>\n",
       "      <th>2024-03-11</th>\n",
       "      <td>864.289978</td>\n",
       "      <td>887.969971</td>\n",
       "      <td>841.659973</td>\n",
       "      <td>857.739990</td>\n",
       "      <td>857.739990</td>\n",
       "      <td>67343000</td>\n",
       "    </tr>\n",
       "  </tbody>\n",
       "</table>\n",
       "<p>6324 rows × 6 columns</p>\n",
       "</div>"
      ],
      "text/plain": [
       "                  Open        High         Low       Close   Adj Close  \\\n",
       "Date                                                                     \n",
       "1999-01-22    0.437500    0.488281    0.388021    0.410156    0.376237   \n",
       "1999-01-25    0.442708    0.458333    0.410156    0.453125    0.415652   \n",
       "1999-01-26    0.458333    0.467448    0.411458    0.417969    0.383404   \n",
       "1999-01-27    0.419271    0.429688    0.395833    0.416667    0.382210   \n",
       "1999-01-28    0.416667    0.419271    0.412760    0.415365    0.381015   \n",
       "...                ...         ...         ...         ...         ...   \n",
       "2024-03-05  852.700012  860.969971  834.169983  859.640015  859.640015   \n",
       "2024-03-06  880.219971  897.239990  870.299988  887.000000  887.000000   \n",
       "2024-03-07  901.580017  927.669983  896.020020  926.690002  926.690002   \n",
       "2024-03-08  951.380005  974.000000  865.059998  875.280029  875.280029   \n",
       "2024-03-11  864.289978  887.969971  841.659973  857.739990  857.739990   \n",
       "\n",
       "               Volume  \n",
       "Date                   \n",
       "1999-01-22  271468800  \n",
       "1999-01-25   51048000  \n",
       "1999-01-26   34320000  \n",
       "1999-01-27   24436800  \n",
       "1999-01-28   22752000  \n",
       "...               ...  \n",
       "2024-03-05   52063900  \n",
       "2024-03-06   58252000  \n",
       "2024-03-07   60811900  \n",
       "2024-03-08  113299600  \n",
       "2024-03-11   67343000  \n",
       "\n",
       "[6324 rows x 6 columns]"
      ]
     },
     "execution_count": 31,
     "metadata": {},
     "output_type": "execute_result"
    }
   ],
   "source": [
    "df"
   ]
  },
  {
   "cell_type": "code",
   "execution_count": 32,
   "id": "2df6071c-2a60-43c6-a388-ac1a751ab36c",
   "metadata": {
    "tags": []
   },
   "outputs": [
    {
     "data": {
      "text/plain": [
       "2091.2530013328924"
      ]
     },
     "execution_count": 32,
     "metadata": {},
     "output_type": "execute_result"
    }
   ],
   "source": [
    "df['Close'][-1]/df['Close'][0]"
   ]
  },
  {
   "cell_type": "code",
   "execution_count": 33,
   "id": "4019b148-7314-4a41-9914-9f9411e2bf64",
   "metadata": {
    "tags": []
   },
   "outputs": [
    {
     "data": {
      "text/plain": [
       "25.18690302592695"
      ]
     },
     "execution_count": 33,
     "metadata": {},
     "output_type": "execute_result"
    }
   ],
   "source": [
    "df.loc['2019':]['Close'][-1]/df.loc['2019':]['Close'][0]"
   ]
  },
  {
   "cell_type": "code",
   "execution_count": 34,
   "id": "2575f75a-790a-4406-b96d-25b764096ceb",
   "metadata": {
    "tags": []
   },
   "outputs": [
    {
     "data": {
      "text/html": [
       "<div>\n",
       "<style scoped>\n",
       "    .dataframe tbody tr th:only-of-type {\n",
       "        vertical-align: middle;\n",
       "    }\n",
       "\n",
       "    .dataframe tbody tr th {\n",
       "        vertical-align: top;\n",
       "    }\n",
       "\n",
       "    .dataframe thead th {\n",
       "        text-align: right;\n",
       "    }\n",
       "</style>\n",
       "<table border=\"1\" class=\"dataframe\">\n",
       "  <thead>\n",
       "    <tr style=\"text-align: right;\">\n",
       "      <th></th>\n",
       "      <th>Open</th>\n",
       "      <th>High</th>\n",
       "      <th>Low</th>\n",
       "      <th>Close</th>\n",
       "      <th>Adj Close</th>\n",
       "      <th>Volume</th>\n",
       "    </tr>\n",
       "    <tr>\n",
       "      <th>Date</th>\n",
       "      <th></th>\n",
       "      <th></th>\n",
       "      <th></th>\n",
       "      <th></th>\n",
       "      <th></th>\n",
       "      <th></th>\n",
       "    </tr>\n",
       "  </thead>\n",
       "  <tbody>\n",
       "    <tr>\n",
       "      <th>2019-01-02</th>\n",
       "      <td>32.660000</td>\n",
       "      <td>34.619999</td>\n",
       "      <td>32.512501</td>\n",
       "      <td>34.055000</td>\n",
       "      <td>33.788895</td>\n",
       "      <td>50875200</td>\n",
       "    </tr>\n",
       "    <tr>\n",
       "      <th>2019-01-03</th>\n",
       "      <td>33.447498</td>\n",
       "      <td>33.790001</td>\n",
       "      <td>31.922501</td>\n",
       "      <td>31.997499</td>\n",
       "      <td>31.747471</td>\n",
       "      <td>70555200</td>\n",
       "    </tr>\n",
       "    <tr>\n",
       "      <th>2019-01-04</th>\n",
       "      <td>32.735001</td>\n",
       "      <td>34.432499</td>\n",
       "      <td>32.424999</td>\n",
       "      <td>34.047501</td>\n",
       "      <td>33.781456</td>\n",
       "      <td>58562000</td>\n",
       "    </tr>\n",
       "    <tr>\n",
       "      <th>2019-01-07</th>\n",
       "      <td>34.625000</td>\n",
       "      <td>36.222500</td>\n",
       "      <td>34.107498</td>\n",
       "      <td>35.849998</td>\n",
       "      <td>35.569874</td>\n",
       "      <td>70916000</td>\n",
       "    </tr>\n",
       "    <tr>\n",
       "      <th>2019-01-08</th>\n",
       "      <td>36.672501</td>\n",
       "      <td>36.695000</td>\n",
       "      <td>34.224998</td>\n",
       "      <td>34.957500</td>\n",
       "      <td>34.684341</td>\n",
       "      <td>78601600</td>\n",
       "    </tr>\n",
       "    <tr>\n",
       "      <th>...</th>\n",
       "      <td>...</td>\n",
       "      <td>...</td>\n",
       "      <td>...</td>\n",
       "      <td>...</td>\n",
       "      <td>...</td>\n",
       "      <td>...</td>\n",
       "    </tr>\n",
       "    <tr>\n",
       "      <th>2024-03-05</th>\n",
       "      <td>852.700012</td>\n",
       "      <td>860.969971</td>\n",
       "      <td>834.169983</td>\n",
       "      <td>859.640015</td>\n",
       "      <td>859.640015</td>\n",
       "      <td>52063900</td>\n",
       "    </tr>\n",
       "    <tr>\n",
       "      <th>2024-03-06</th>\n",
       "      <td>880.219971</td>\n",
       "      <td>897.239990</td>\n",
       "      <td>870.299988</td>\n",
       "      <td>887.000000</td>\n",
       "      <td>887.000000</td>\n",
       "      <td>58252000</td>\n",
       "    </tr>\n",
       "    <tr>\n",
       "      <th>2024-03-07</th>\n",
       "      <td>901.580017</td>\n",
       "      <td>927.669983</td>\n",
       "      <td>896.020020</td>\n",
       "      <td>926.690002</td>\n",
       "      <td>926.690002</td>\n",
       "      <td>60811900</td>\n",
       "    </tr>\n",
       "    <tr>\n",
       "      <th>2024-03-08</th>\n",
       "      <td>951.380005</td>\n",
       "      <td>974.000000</td>\n",
       "      <td>865.059998</td>\n",
       "      <td>875.280029</td>\n",
       "      <td>875.280029</td>\n",
       "      <td>113299600</td>\n",
       "    </tr>\n",
       "    <tr>\n",
       "      <th>2024-03-11</th>\n",
       "      <td>864.289978</td>\n",
       "      <td>887.969971</td>\n",
       "      <td>841.659973</td>\n",
       "      <td>857.739990</td>\n",
       "      <td>857.739990</td>\n",
       "      <td>67343000</td>\n",
       "    </tr>\n",
       "  </tbody>\n",
       "</table>\n",
       "<p>1306 rows × 6 columns</p>\n",
       "</div>"
      ],
      "text/plain": [
       "                  Open        High         Low       Close   Adj Close  \\\n",
       "Date                                                                     \n",
       "2019-01-02   32.660000   34.619999   32.512501   34.055000   33.788895   \n",
       "2019-01-03   33.447498   33.790001   31.922501   31.997499   31.747471   \n",
       "2019-01-04   32.735001   34.432499   32.424999   34.047501   33.781456   \n",
       "2019-01-07   34.625000   36.222500   34.107498   35.849998   35.569874   \n",
       "2019-01-08   36.672501   36.695000   34.224998   34.957500   34.684341   \n",
       "...                ...         ...         ...         ...         ...   \n",
       "2024-03-05  852.700012  860.969971  834.169983  859.640015  859.640015   \n",
       "2024-03-06  880.219971  897.239990  870.299988  887.000000  887.000000   \n",
       "2024-03-07  901.580017  927.669983  896.020020  926.690002  926.690002   \n",
       "2024-03-08  951.380005  974.000000  865.059998  875.280029  875.280029   \n",
       "2024-03-11  864.289978  887.969971  841.659973  857.739990  857.739990   \n",
       "\n",
       "               Volume  \n",
       "Date                   \n",
       "2019-01-02   50875200  \n",
       "2019-01-03   70555200  \n",
       "2019-01-04   58562000  \n",
       "2019-01-07   70916000  \n",
       "2019-01-08   78601600  \n",
       "...               ...  \n",
       "2024-03-05   52063900  \n",
       "2024-03-06   58252000  \n",
       "2024-03-07   60811900  \n",
       "2024-03-08  113299600  \n",
       "2024-03-11   67343000  \n",
       "\n",
       "[1306 rows x 6 columns]"
      ]
     },
     "execution_count": 34,
     "metadata": {},
     "output_type": "execute_result"
    }
   ],
   "source": [
    "df.loc['2019':]"
   ]
  },
  {
   "cell_type": "code",
   "execution_count": 35,
   "id": "5c983607-7559-4583-b1d2-f7a5b90d4a63",
   "metadata": {
    "tags": []
   },
   "outputs": [
    {
     "name": "stdout",
     "output_type": "stream",
     "text": [
      "1999 ==> 2.3841293388028615\n",
      "2000 ==> 1.3998666923193703\n",
      "2001 ==> 4.469310342323085\n",
      "2002 ==> 0.1710253268984546\n",
      "2003 ==> 1.8846469348986923\n",
      "2004 ==> 1.0207972102790819\n",
      "2005 ==> 1.5504666907107452\n",
      "2006 ==> 1.93668231221561\n",
      "2007 ==> 1.414357118654672\n",
      "2008 ==> 0.24447137549716164\n",
      "2009 ==> 2.144661334484896\n",
      "2010 ==> 0.8328826289433195\n",
      "2011 ==> 0.8761061898889784\n",
      "2012 ==> 0.8732193918940536\n",
      "2013 ==> 1.2594339718127767\n",
      "2014 ==> 1.2641866123004146\n",
      "2015 ==> 1.6373572011225785\n",
      "2016 ==> 3.297497725853478\n",
      "2017 ==> 1.896872815879252\n",
      "2018 ==> 0.6696764279539477\n",
      "2019 ==> 1.7273528185521423\n",
      "2020 ==> 2.176649594580894\n",
      "2021 ==> 2.2428032003023484\n",
      "2022 ==> 0.48517646670244496\n",
      "2023 ==> 3.459448287359412\n",
      "2024 ==> 1.7807257998604888\n"
     ]
    }
   ],
   "source": [
    "for i in range(1999, 2025):\n",
    "    ret = df.loc[str(i)]['Close'][-1]/df.loc[str(i)]['Close'][0]\n",
    "    print(i, '==>',ret)"
   ]
  },
  {
   "cell_type": "code",
   "execution_count": 36,
   "id": "d18a36d7-1589-41f6-98b9-751c7182238f",
   "metadata": {
    "tags": []
   },
   "outputs": [
    {
     "data": {
      "text/html": [
       "<div>\n",
       "<style scoped>\n",
       "    .dataframe tbody tr th:only-of-type {\n",
       "        vertical-align: middle;\n",
       "    }\n",
       "\n",
       "    .dataframe tbody tr th {\n",
       "        vertical-align: top;\n",
       "    }\n",
       "\n",
       "    .dataframe thead th {\n",
       "        text-align: right;\n",
       "    }\n",
       "</style>\n",
       "<table border=\"1\" class=\"dataframe\">\n",
       "  <thead>\n",
       "    <tr style=\"text-align: right;\">\n",
       "      <th></th>\n",
       "      <th>Open</th>\n",
       "      <th>High</th>\n",
       "      <th>Low</th>\n",
       "      <th>Close</th>\n",
       "      <th>Adj Close</th>\n",
       "      <th>Volume</th>\n",
       "    </tr>\n",
       "    <tr>\n",
       "      <th>Date</th>\n",
       "      <th></th>\n",
       "      <th></th>\n",
       "      <th></th>\n",
       "      <th></th>\n",
       "      <th></th>\n",
       "      <th></th>\n",
       "    </tr>\n",
       "  </thead>\n",
       "  <tbody>\n",
       "    <tr>\n",
       "      <th>2008-01-02</th>\n",
       "      <td>8.5300</td>\n",
       "      <td>8.5625</td>\n",
       "      <td>8.1400</td>\n",
       "      <td>8.2525</td>\n",
       "      <td>7.570035</td>\n",
       "      <td>48396400</td>\n",
       "    </tr>\n",
       "    <tr>\n",
       "      <th>2008-01-03</th>\n",
       "      <td>8.3000</td>\n",
       "      <td>8.4650</td>\n",
       "      <td>8.1575</td>\n",
       "      <td>8.1875</td>\n",
       "      <td>7.510412</td>\n",
       "      <td>47530800</td>\n",
       "    </tr>\n",
       "    <tr>\n",
       "      <th>2008-01-04</th>\n",
       "      <td>7.9425</td>\n",
       "      <td>7.9825</td>\n",
       "      <td>7.4500</td>\n",
       "      <td>7.5000</td>\n",
       "      <td>6.879766</td>\n",
       "      <td>73609200</td>\n",
       "    </tr>\n",
       "    <tr>\n",
       "      <th>2008-01-07</th>\n",
       "      <td>7.5500</td>\n",
       "      <td>7.6125</td>\n",
       "      <td>6.5875</td>\n",
       "      <td>6.7250</td>\n",
       "      <td>6.168857</td>\n",
       "      <td>100680000</td>\n",
       "    </tr>\n",
       "    <tr>\n",
       "      <th>2008-01-08</th>\n",
       "      <td>6.7625</td>\n",
       "      <td>7.3225</td>\n",
       "      <td>6.6050</td>\n",
       "      <td>6.8675</td>\n",
       "      <td>6.299573</td>\n",
       "      <td>110695600</td>\n",
       "    </tr>\n",
       "    <tr>\n",
       "      <th>...</th>\n",
       "      <td>...</td>\n",
       "      <td>...</td>\n",
       "      <td>...</td>\n",
       "      <td>...</td>\n",
       "      <td>...</td>\n",
       "      <td>...</td>\n",
       "    </tr>\n",
       "    <tr>\n",
       "      <th>2008-12-24</th>\n",
       "      <td>1.9375</td>\n",
       "      <td>1.9850</td>\n",
       "      <td>1.8900</td>\n",
       "      <td>1.9300</td>\n",
       "      <td>1.770393</td>\n",
       "      <td>14661600</td>\n",
       "    </tr>\n",
       "    <tr>\n",
       "      <th>2008-12-26</th>\n",
       "      <td>1.9300</td>\n",
       "      <td>1.9550</td>\n",
       "      <td>1.8250</td>\n",
       "      <td>1.8775</td>\n",
       "      <td>1.722235</td>\n",
       "      <td>22615600</td>\n",
       "    </tr>\n",
       "    <tr>\n",
       "      <th>2008-12-29</th>\n",
       "      <td>1.9025</td>\n",
       "      <td>1.9375</td>\n",
       "      <td>1.7800</td>\n",
       "      <td>1.9375</td>\n",
       "      <td>1.777273</td>\n",
       "      <td>46016800</td>\n",
       "    </tr>\n",
       "    <tr>\n",
       "      <th>2008-12-30</th>\n",
       "      <td>1.9625</td>\n",
       "      <td>2.0350</td>\n",
       "      <td>1.9175</td>\n",
       "      <td>2.0050</td>\n",
       "      <td>1.839191</td>\n",
       "      <td>40986000</td>\n",
       "    </tr>\n",
       "    <tr>\n",
       "      <th>2008-12-31</th>\n",
       "      <td>1.9800</td>\n",
       "      <td>2.0675</td>\n",
       "      <td>1.9450</td>\n",
       "      <td>2.0175</td>\n",
       "      <td>1.850657</td>\n",
       "      <td>44158000</td>\n",
       "    </tr>\n",
       "  </tbody>\n",
       "</table>\n",
       "<p>253 rows × 6 columns</p>\n",
       "</div>"
      ],
      "text/plain": [
       "              Open    High     Low   Close  Adj Close     Volume\n",
       "Date                                                            \n",
       "2008-01-02  8.5300  8.5625  8.1400  8.2525   7.570035   48396400\n",
       "2008-01-03  8.3000  8.4650  8.1575  8.1875   7.510412   47530800\n",
       "2008-01-04  7.9425  7.9825  7.4500  7.5000   6.879766   73609200\n",
       "2008-01-07  7.5500  7.6125  6.5875  6.7250   6.168857  100680000\n",
       "2008-01-08  6.7625  7.3225  6.6050  6.8675   6.299573  110695600\n",
       "...            ...     ...     ...     ...        ...        ...\n",
       "2008-12-24  1.9375  1.9850  1.8900  1.9300   1.770393   14661600\n",
       "2008-12-26  1.9300  1.9550  1.8250  1.8775   1.722235   22615600\n",
       "2008-12-29  1.9025  1.9375  1.7800  1.9375   1.777273   46016800\n",
       "2008-12-30  1.9625  2.0350  1.9175  2.0050   1.839191   40986000\n",
       "2008-12-31  1.9800  2.0675  1.9450  2.0175   1.850657   44158000\n",
       "\n",
       "[253 rows x 6 columns]"
      ]
     },
     "execution_count": 36,
     "metadata": {},
     "output_type": "execute_result"
    }
   ],
   "source": [
    "df.loc['2008']"
   ]
  },
  {
   "cell_type": "code",
   "execution_count": 39,
   "id": "565a1b32-80b1-4db1-b367-2a8334fd1831",
   "metadata": {
    "tags": []
   },
   "outputs": [
    {
     "name": "stdout",
     "output_type": "stream",
     "text": [
      "1999 ==> 2.3841293388028615 ==> 2.3841293388028615\n",
      "2000 ==> 1.3998666923193703 ==> 3.337463251571529\n",
      "2001 ==> 4.469310342323085 ==> 14.916159027371865\n",
      "2002 ==> 0.1710253268984546 ==> 2.5510409737256077\n",
      "2003 ==> 1.8846469348986923 ==> 4.807811551932942\n",
      "2004 ==> 1.0207972102790819 ==> 4.907800619760691\n",
      "2005 ==> 1.5504666907107452 ==> 7.609381385588502\n",
      "2006 ==> 1.93668231221561 ==> 14.736954336371964\n",
      "2007 ==> 1.414357118654672 ==> 20.843316272936523\n",
      "2008 ==> 0.24447137549716164 ==> 5.095594199167164\n",
      "2009 ==> 2.144661334484896 ==> 10.928323855179345\n",
      "2010 ==> 0.8328826289433195 ==> 9.102011102445765\n",
      "2011 ==> 0.8761061898889784 ==> 7.974328267290939\n",
      "2012 ==> 0.8732193918940536 ==> 6.963338080327356\n",
      "2013 ==> 1.2594339718127767 ==> 8.769864535581837\n",
      "2014 ==> 1.2641866123004146 ==> 11.08674533757075\n",
      "2015 ==> 1.6373572011225785 ==> 18.15296231548364\n",
      "2016 ==> 3.297497725853478 ==> 59.859351952811195\n",
      "2017 ==> 1.896872815879252 ==> 113.54557749543618\n",
      "2018 ==> 0.6696764279539477 ==> 76.03879674711185\n",
      "2019 ==> 1.7273528185521423 ==> 131.34582988043712\n",
      "2020 ==> 2.176649594580894 ==> 285.89384735914456\n",
      "2021 ==> 2.2428032003023484 ==> 641.2036358038405\n",
      "2022 ==> 0.48517646670244496 ==> 311.09691445606865\n",
      "2023 ==> 3.459448287359412 ==> 1076.2236879178442\n",
      "2024 ==> 1.7807257998604888 ==> 1916.4592874963082\n"
     ]
    }
   ],
   "source": [
    "total = 1\n",
    "for i in range(1999, 2025):\n",
    "    ret = df.loc[str(i)]['Close'][-1]/df.loc[str(i)]['Close'][0]\n",
    "    total *= ret\n",
    "    print(i, '==>', ret, '==>', total)"
   ]
  },
  {
   "cell_type": "code",
   "execution_count": null,
   "id": "1a64cd8a-f571-4202-bd75-652f65389caa",
   "metadata": {},
   "outputs": [],
   "source": []
  }
 ],
 "metadata": {
  "kernelspec": {
   "display_name": "Python 3 (ipykernel)",
   "language": "python",
   "name": "python3"
  },
  "language_info": {
   "codemirror_mode": {
    "name": "ipython",
    "version": 3
   },
   "file_extension": ".py",
   "mimetype": "text/x-python",
   "name": "python",
   "nbconvert_exporter": "python",
   "pygments_lexer": "ipython3",
   "version": "3.11.5"
  }
 },
 "nbformat": 4,
 "nbformat_minor": 5
}
