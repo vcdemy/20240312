{
 "cells": [
  {
   "cell_type": "markdown",
   "id": "6d738ffc-8be7-41dc-982b-4c86c229ab17",
   "metadata": {},
   "source": [
    "# 20240312筆記"
   ]
  },
  {
   "cell_type": "markdown",
   "id": "13f63131-ce78-4fac-b765-607a68a55b70",
   "metadata": {},
   "source": [
    "## 複習萌典API的使用"
   ]
  },
  {
   "cell_type": "markdown",
   "id": "d1f73287-d677-49d2-8d39-7af9008d7cce",
   "metadata": {},
   "source": [
    "https://github.com/g0v/moedict-webkit"
   ]
  },
  {
   "cell_type": "code",
   "execution_count": 1,
   "id": "be77feab-efb7-480a-a377-ae8e2287bb25",
   "metadata": {
    "tags": []
   },
   "outputs": [],
   "source": [
    "import requests"
   ]
  },
  {
   "cell_type": "code",
   "execution_count": 2,
   "id": "6c4ba754-dcea-4bce-b097-38c391511c80",
   "metadata": {
    "tags": []
   },
   "outputs": [],
   "source": [
    "# 字串相加 - 01\n",
    "word = \"教室\"\n",
    "url = \"https://www.moedict.tw/uni/\" + word"
   ]
  },
  {
   "cell_type": "code",
   "execution_count": 5,
   "id": "f9994ef9-a855-4506-b8c6-a758c612889c",
   "metadata": {
    "tags": []
   },
   "outputs": [
    {
     "data": {
      "text/plain": [
       "'https://www.moedict.tw/uni/教室'"
      ]
     },
     "execution_count": 5,
     "metadata": {},
     "output_type": "execute_result"
    }
   ],
   "source": [
    "url"
   ]
  },
  {
   "cell_type": "code",
   "execution_count": 6,
   "id": "5bb196d6-2671-42c1-be7f-ef26b80a5e18",
   "metadata": {
    "tags": []
   },
   "outputs": [],
   "source": [
    "# 字串相加 - 02\n",
    "word = \"教室\"\n",
    "url = f\"https://www.moedict.tw/uni/{word}\""
   ]
  },
  {
   "cell_type": "code",
   "execution_count": 7,
   "id": "f2220f12-e61d-47d1-a285-035883abbdc1",
   "metadata": {
    "tags": []
   },
   "outputs": [
    {
     "data": {
      "text/plain": [
       "'https://www.moedict.tw/uni/教室'"
      ]
     },
     "execution_count": 7,
     "metadata": {},
     "output_type": "execute_result"
    }
   ],
   "source": [
    "url"
   ]
  },
  {
   "cell_type": "code",
   "execution_count": 8,
   "id": "d323e71c-49d8-42be-a38a-d0065b68483e",
   "metadata": {
    "tags": []
   },
   "outputs": [
    {
     "name": "stderr",
     "output_type": "stream",
     "text": [
      "C:\\Users\\victor\\anaconda3\\Lib\\site-packages\\urllib3\\connectionpool.py:1056: InsecureRequestWarning: Unverified HTTPS request is being made to host 'www.moedict.tw'. Adding certificate verification is strongly advised. See: https://urllib3.readthedocs.io/en/1.26.x/advanced-usage.html#ssl-warnings\n",
      "  warnings.warn(\n"
     ]
    }
   ],
   "source": [
    "r = requests.get(url, verify=False)"
   ]
  },
  {
   "cell_type": "code",
   "execution_count": 4,
   "id": "838f11ae-3cc5-4907-83c3-457ff975982d",
   "metadata": {
    "tags": []
   },
   "outputs": [
    {
     "name": "stdout",
     "output_type": "stream",
     "text": [
      "\t{\n",
      "\t\t\"heteronyms\": [\n",
      "\t\t\t{\n",
      "\t\t\t\t\"bopomofo\": \"ㄐㄧㄠˋ ㄕˋ\",\n",
      "\t\t\t\t\"bopomofo2\": \"jiàu shr̀\",\n",
      "\t\t\t\t\"definitions\": [\n",
      "\t\t\t\t\t{\n",
      "\t\t\t\t\t\t\"def\": \"學校裡進行教學活動的房間。\",\n",
      "\t\t\t\t\t\t\"example\": [\n",
      "\t\t\t\t\t\t\t\"如：「實驗教室」、「音樂教室」。\"\n",
      "\t\t\t\t\t\t],\n",
      "\t\t\t\t\t\t\"synonyms\": \"課堂,講堂\"\n",
      "\t\t\t\t\t}\n",
      "\t\t\t\t],\n",
      "\t\t\t\t\"pinyin\": \"jiào shì\"\n",
      "\t\t\t}\n",
      "\t\t],\n",
      "\t\t\"title\": \"教室\"\n",
      "\t}\n"
     ]
    }
   ],
   "source": [
    "print(r.text)"
   ]
  },
  {
   "cell_type": "code",
   "execution_count": 13,
   "id": "08339714-f817-4f9f-8ebd-c7fcb51d1433",
   "metadata": {
    "tags": []
   },
   "outputs": [
    {
     "data": {
      "text/plain": [
       "{'Date': 'Tue, 12 Mar 2024 01:24:45 GMT', 'Content-Type': 'application/json; charset=UTF-8', 'Transfer-Encoding': 'chunked', 'Connection': 'keep-alive', 'Last-Modified': 'Sun, 17 Feb 2013 21:20:12 GMT', 'ETag': 'W/\"5121498c-174\"', 'Access-Control-Allow-Origin': '*', 'Access-Control-Max-Age': '31536000', 'Strict-Transport-Security': 'max-age=0; preload', 'CF-Cache-Status': 'DYNAMIC', 'Report-To': '{\"endpoints\":[{\"url\":\"https:\\\\/\\\\/a.nel.cloudflare.com\\\\/report\\\\/v3?s=Crx0GX41qeU8jJcVNHOtQTesLRkzsUyGNN9Yrc6xSwfjUJHLhuq8A8roposGCULboOFaTf2WachrMQH%2F1VQpsD0Oo5XfDce04U%2FczCSCAJSk68%2FUFZiOL5S2glyEh2rLbOPXjXvrzEUQ%2Blxq\"}],\"group\":\"cf-nel\",\"max_age\":604800}', 'NEL': '{\"success_fraction\":0,\"report_to\":\"cf-nel\",\"max_age\":604800}', 'Server': 'cloudflare', 'CF-RAY': '862ffc886e7717e4-SJC', 'Content-Encoding': 'br'}"
      ]
     },
     "execution_count": 13,
     "metadata": {},
     "output_type": "execute_result"
    }
   ],
   "source": [
    "r.headers"
   ]
  },
  {
   "cell_type": "code",
   "execution_count": 14,
   "id": "198ff9c6-d5de-4ff7-8ad7-c88f574c0b4d",
   "metadata": {
    "tags": []
   },
   "outputs": [],
   "source": [
    "data = r.json()"
   ]
  },
  {
   "cell_type": "code",
   "execution_count": 15,
   "id": "bf57f71c-ae8e-4e02-80bd-089cb4eb3395",
   "metadata": {
    "tags": []
   },
   "outputs": [
    {
     "data": {
      "text/plain": [
       "{'heteronyms': [{'bopomofo': 'ㄐㄧㄠˋ ㄕˋ',\n",
       "   'bopomofo2': 'jiàu shr̀',\n",
       "   'definitions': [{'def': '學校裡進行教學活動的房間。',\n",
       "     'example': ['如：「實驗教室」、「音樂教室」。'],\n",
       "     'synonyms': '課堂,講堂'}],\n",
       "   'pinyin': 'jiào shì'}],\n",
       " 'title': '教室'}"
      ]
     },
     "execution_count": 15,
     "metadata": {},
     "output_type": "execute_result"
    }
   ],
   "source": [
    "data"
   ]
  },
  {
   "cell_type": "code",
   "execution_count": 21,
   "id": "5a663635-c827-44c4-8612-4ac5b3ddd40a",
   "metadata": {
    "tags": []
   },
   "outputs": [
    {
     "data": {
      "text/plain": [
       "[{'bopomofo': 'ㄐㄧㄠˋ ㄕˋ',\n",
       "  'bopomofo2': 'jiàu shr̀',\n",
       "  'definitions': [{'def': '學校裡進行教學活動的房間。',\n",
       "    'example': ['如：「實驗教室」、「音樂教室」。'],\n",
       "    'synonyms': '課堂,講堂'}],\n",
       "  'pinyin': 'jiào shì'}]"
      ]
     },
     "execution_count": 21,
     "metadata": {},
     "output_type": "execute_result"
    }
   ],
   "source": [
    "data['heteronyms']"
   ]
  },
  {
   "cell_type": "code",
   "execution_count": 22,
   "id": "6f204700-f1fe-4bb2-9e4d-684868958fef",
   "metadata": {
    "tags": []
   },
   "outputs": [
    {
     "data": {
      "text/plain": [
       "{'bopomofo': 'ㄐㄧㄠˋ ㄕˋ',\n",
       " 'bopomofo2': 'jiàu shr̀',\n",
       " 'definitions': [{'def': '學校裡進行教學活動的房間。',\n",
       "   'example': ['如：「實驗教室」、「音樂教室」。'],\n",
       "   'synonyms': '課堂,講堂'}],\n",
       " 'pinyin': 'jiào shì'}"
      ]
     },
     "execution_count": 22,
     "metadata": {},
     "output_type": "execute_result"
    }
   ],
   "source": [
    "data['heteronyms'][0]"
   ]
  },
  {
   "cell_type": "code",
   "execution_count": 23,
   "id": "fc0f75b0-4e9b-45ff-931c-cfcf532b26ef",
   "metadata": {
    "tags": []
   },
   "outputs": [
    {
     "data": {
      "text/plain": [
       "[{'def': '學校裡進行教學活動的房間。',\n",
       "  'example': ['如：「實驗教室」、「音樂教室」。'],\n",
       "  'synonyms': '課堂,講堂'}]"
      ]
     },
     "execution_count": 23,
     "metadata": {},
     "output_type": "execute_result"
    }
   ],
   "source": [
    "data['heteronyms'][0]['definitions']"
   ]
  },
  {
   "cell_type": "code",
   "execution_count": 26,
   "id": "f0256ccc-8e79-4d0d-a906-8cd2855803e8",
   "metadata": {
    "tags": []
   },
   "outputs": [
    {
     "data": {
      "text/plain": [
       "{'def': '學校裡進行教學活動的房間。', 'example': ['如：「實驗教室」、「音樂教室」。'], 'synonyms': '課堂,講堂'}"
      ]
     },
     "execution_count": 26,
     "metadata": {},
     "output_type": "execute_result"
    }
   ],
   "source": [
    "data['heteronyms'][0]['definitions'][0]"
   ]
  },
  {
   "cell_type": "code",
   "execution_count": 27,
   "id": "efb6675a-6975-494f-b8f4-04413635b4de",
   "metadata": {
    "tags": []
   },
   "outputs": [
    {
     "data": {
      "text/plain": [
       "'學校裡進行教學活動的房間。'"
      ]
     },
     "execution_count": 27,
     "metadata": {},
     "output_type": "execute_result"
    }
   ],
   "source": [
    "data['heteronyms'][0]['definitions'][0]['def']"
   ]
  },
  {
   "cell_type": "markdown",
   "id": "f5033a89-1ae1-4adf-98eb-dff4cdd2fed4",
   "metadata": {},
   "source": [
    "## 複習縮排"
   ]
  },
  {
   "cell_type": "code",
   "execution_count": 28,
   "id": "db1b01b3-7300-43e9-9ced-401faa64f8b1",
   "metadata": {
    "tags": []
   },
   "outputs": [
    {
     "name": "stdout",
     "output_type": "stream",
     "text": [
      "程式區塊開始!\n",
      "0\n",
      "程式區塊結束!\n",
      "程式區塊開始!\n",
      "1\n",
      "程式區塊結束!\n",
      "程式區塊開始!\n",
      "2\n",
      "程式區塊結束!\n"
     ]
    }
   ],
   "source": [
    "for i in range(3):\n",
    "    print(\"程式區塊開始!\")\n",
    "    print(i)\n",
    "    print(\"程式區塊結束!\")"
   ]
  },
  {
   "cell_type": "code",
   "execution_count": 29,
   "id": "f2864691-be08-4902-830e-6e3566daa920",
   "metadata": {
    "tags": []
   },
   "outputs": [
    {
     "name": "stdout",
     "output_type": "stream",
     "text": [
      "程式區塊開始!\n",
      "0\n",
      "程式區塊開始!\n",
      "1\n",
      "程式區塊開始!\n",
      "2\n",
      "程式區塊結束!\n"
     ]
    }
   ],
   "source": [
    "for i in range(3):\n",
    "    print(\"程式區塊開始!\")\n",
    "    print(i)\n",
    "print(\"程式區塊結束!\")"
   ]
  },
  {
   "cell_type": "code",
   "execution_count": 30,
   "id": "a9d03ce8-0017-4fbc-8f0d-ac131d8fd77a",
   "metadata": {
    "tags": []
   },
   "outputs": [
    {
     "ename": "IndentationError",
     "evalue": "expected an indented block after 'for' statement on line 1 (731320291.py, line 2)",
     "output_type": "error",
     "traceback": [
      "\u001b[1;36m  Cell \u001b[1;32mIn[30], line 2\u001b[1;36m\u001b[0m\n\u001b[1;33m    print(\"程式區塊開始!\")\u001b[0m\n\u001b[1;37m    ^\u001b[0m\n\u001b[1;31mIndentationError\u001b[0m\u001b[1;31m:\u001b[0m expected an indented block after 'for' statement on line 1\n"
     ]
    }
   ],
   "source": [
    "for i in range(3):\n",
    "print(\"程式區塊開始!\")\n",
    "print(i)\n",
    "print(\"程式區塊結束!\")"
   ]
  },
  {
   "cell_type": "markdown",
   "id": "52b1d0a3-9c1b-4c56-a483-e9514b57bb3e",
   "metadata": {},
   "source": [
    "## gradio使用簡介"
   ]
  },
  {
   "cell_type": "code",
   "execution_count": null,
   "id": "da228830-2ca2-4238-bb03-f49fb29a95c8",
   "metadata": {},
   "outputs": [],
   "source": [
    "!pip install gradio"
   ]
  },
  {
   "cell_type": "code",
   "execution_count": 31,
   "id": "47a0c871-d05e-4397-bf37-b69f5b7f9d30",
   "metadata": {
    "tags": []
   },
   "outputs": [],
   "source": [
    "import gradio as gr"
   ]
  },
  {
   "cell_type": "code",
   "execution_count": 32,
   "id": "77c5827c-5727-4413-9b4d-8057d4765c50",
   "metadata": {
    "tags": []
   },
   "outputs": [],
   "source": [
    "def lookup(word):\n",
    "    url = f\"https://www.moedict.tw/uni/{word}\"\n",
    "    # r = requests.get(url, verify=False)\n",
    "    # data = r.json()\n",
    "    data = requests.get(url, verify=False).json()\n",
    "    return data['heteronyms'][0]['definitions'][0]['def']"
   ]
  },
  {
   "cell_type": "code",
   "execution_count": 33,
   "id": "ccee0ffc-e95d-4984-8c78-d57ef08922be",
   "metadata": {
    "collapsed": true,
    "jupyter": {
     "outputs_hidden": true
    },
    "tags": []
   },
   "outputs": [
    {
     "name": "stderr",
     "output_type": "stream",
     "text": [
      "C:\\Users\\victor\\anaconda3\\Lib\\site-packages\\urllib3\\connectionpool.py:1056: InsecureRequestWarning: Unverified HTTPS request is being made to host 'www.moedict.tw'. Adding certificate verification is strongly advised. See: https://urllib3.readthedocs.io/en/1.26.x/advanced-usage.html#ssl-warnings\n",
      "  warnings.warn(\n"
     ]
    },
    {
     "data": {
      "text/plain": [
       "'依公司法登記成立的社團法人營利企業組織。可分無限公司、有限公司、股份有限公司、兩合公司、股份兩合公司等五類。'"
      ]
     },
     "execution_count": 33,
     "metadata": {},
     "output_type": "execute_result"
    }
   ],
   "source": [
    "lookup('公司')"
   ]
  },
  {
   "cell_type": "code",
   "execution_count": 34,
   "id": "dbd6d2e2-f6b2-4019-a721-118cfce62fad",
   "metadata": {
    "tags": []
   },
   "outputs": [
    {
     "name": "stdout",
     "output_type": "stream",
     "text": [
      "Running on local URL:  http://127.0.0.1:7860\n",
      "\n",
      "To create a public link, set `share=True` in `launch()`.\n"
     ]
    },
    {
     "data": {
      "text/html": [
       "<div><iframe src=\"http://127.0.0.1:7860/\" width=\"100%\" height=\"500\" allow=\"autoplay; camera; microphone; clipboard-read; clipboard-write;\" frameborder=\"0\" allowfullscreen></iframe></div>"
      ],
      "text/plain": [
       "<IPython.core.display.HTML object>"
      ]
     },
     "metadata": {},
     "output_type": "display_data"
    },
    {
     "data": {
      "text/plain": []
     },
     "execution_count": 34,
     "metadata": {},
     "output_type": "execute_result"
    },
    {
     "name": "stderr",
     "output_type": "stream",
     "text": [
      "C:\\Users\\victor\\anaconda3\\Lib\\site-packages\\urllib3\\connectionpool.py:1056: InsecureRequestWarning: Unverified HTTPS request is being made to host 'www.moedict.tw'. Adding certificate verification is strongly advised. See: https://urllib3.readthedocs.io/en/1.26.x/advanced-usage.html#ssl-warnings\n",
      "  warnings.warn(\n",
      "C:\\Users\\victor\\anaconda3\\Lib\\site-packages\\urllib3\\connectionpool.py:1056: InsecureRequestWarning: Unverified HTTPS request is being made to host 'www.moedict.tw'. Adding certificate verification is strongly advised. See: https://urllib3.readthedocs.io/en/1.26.x/advanced-usage.html#ssl-warnings\n",
      "  warnings.warn(\n",
      "C:\\Users\\victor\\anaconda3\\Lib\\site-packages\\urllib3\\connectionpool.py:1056: InsecureRequestWarning: Unverified HTTPS request is being made to host 'www.moedict.tw'. Adding certificate verification is strongly advised. See: https://urllib3.readthedocs.io/en/1.26.x/advanced-usage.html#ssl-warnings\n",
      "  warnings.warn(\n",
      "Traceback (most recent call last):\n",
      "  File \"C:\\Users\\victor\\anaconda3\\Lib\\site-packages\\gradio\\routes.py\", line 534, in predict\n",
      "    output = await route_utils.call_process_api(\n",
      "             ^^^^^^^^^^^^^^^^^^^^^^^^^^^^^^^^^^^\n",
      "  File \"C:\\Users\\victor\\anaconda3\\Lib\\site-packages\\gradio\\route_utils.py\", line 226, in call_process_api\n",
      "    output = await app.get_blocks().process_api(\n",
      "             ^^^^^^^^^^^^^^^^^^^^^^^^^^^^^^^^^^^\n",
      "  File \"C:\\Users\\victor\\anaconda3\\Lib\\site-packages\\gradio\\blocks.py\", line 1550, in process_api\n",
      "    result = await self.call_function(\n",
      "             ^^^^^^^^^^^^^^^^^^^^^^^^^\n",
      "  File \"C:\\Users\\victor\\anaconda3\\Lib\\site-packages\\gradio\\blocks.py\", line 1185, in call_function\n",
      "    prediction = await anyio.to_thread.run_sync(\n",
      "                 ^^^^^^^^^^^^^^^^^^^^^^^^^^^^^^^\n",
      "  File \"C:\\Users\\victor\\anaconda3\\Lib\\site-packages\\anyio\\to_thread.py\", line 33, in run_sync\n",
      "    return await get_asynclib().run_sync_in_worker_thread(\n",
      "           ^^^^^^^^^^^^^^^^^^^^^^^^^^^^^^^^^^^^^^^^^^^^^^^\n",
      "  File \"C:\\Users\\victor\\anaconda3\\Lib\\site-packages\\anyio\\_backends\\_asyncio.py\", line 877, in run_sync_in_worker_thread\n",
      "    return await future\n",
      "           ^^^^^^^^^^^^\n",
      "  File \"C:\\Users\\victor\\anaconda3\\Lib\\site-packages\\anyio\\_backends\\_asyncio.py\", line 807, in run\n",
      "    result = context.run(func, *args)\n",
      "             ^^^^^^^^^^^^^^^^^^^^^^^^\n",
      "  File \"C:\\Users\\victor\\anaconda3\\Lib\\site-packages\\gradio\\utils.py\", line 661, in wrapper\n",
      "    response = f(*args, **kwargs)\n",
      "               ^^^^^^^^^^^^^^^^^^\n",
      "  File \"C:\\Users\\victor\\AppData\\Local\\Temp\\ipykernel_18320\\1266020758.py\", line 6, in lookup\n",
      "    return data['heteronyms'][0]['definitions'][0]['def']\n",
      "           ~~~~^^^^^^^^^^^^^^\n",
      "KeyError: 'heteronyms'\n"
     ]
    }
   ],
   "source": [
    "gr.Interface(lookup, \"text\", \"text\").launch()"
   ]
  },
  {
   "cell_type": "code",
   "execution_count": 35,
   "id": "f747ab99-efaf-4796-89f6-1ba173577ab7",
   "metadata": {
    "tags": []
   },
   "outputs": [
    {
     "name": "stdout",
     "output_type": "stream",
     "text": [
      "Running on local URL:  http://127.0.0.1:7861\n",
      "\n",
      "To create a public link, set `share=True` in `launch()`.\n"
     ]
    },
    {
     "data": {
      "text/html": [
       "<div><iframe src=\"http://127.0.0.1:7861/\" width=\"100%\" height=\"500\" allow=\"autoplay; camera; microphone; clipboard-read; clipboard-write;\" frameborder=\"0\" allowfullscreen></iframe></div>"
      ],
      "text/plain": [
       "<IPython.core.display.HTML object>"
      ]
     },
     "metadata": {},
     "output_type": "display_data"
    },
    {
     "data": {
      "text/plain": []
     },
     "execution_count": 35,
     "metadata": {},
     "output_type": "execute_result"
    }
   ],
   "source": [
    "gr.Interface(lookup, \"text\", \"text\", title=\"國語辭典\").launch()"
   ]
  },
  {
   "cell_type": "code",
   "execution_count": 36,
   "id": "4a33b438-6bf9-4f3c-80cc-08f4efec0dc9",
   "metadata": {
    "tags": []
   },
   "outputs": [],
   "source": [
    "def lookup(word):\n",
    "    try:\n",
    "        url = f\"https://www.moedict.tw/uni/{word}\"\n",
    "        data = requests.get(url, verify=False).json()\n",
    "        return data['heteronyms'][0]['definitions'][0]['def']\n",
    "    except Exception:\n",
    "        return \"資料查詢錯誤！可能是查不到該名詞！\""
   ]
  },
  {
   "cell_type": "code",
   "execution_count": 37,
   "id": "ff4e9787-5068-4924-8fd8-e3eb840386b0",
   "metadata": {
    "tags": []
   },
   "outputs": [
    {
     "name": "stdout",
     "output_type": "stream",
     "text": [
      "Running on local URL:  http://127.0.0.1:7862\n",
      "\n",
      "To create a public link, set `share=True` in `launch()`.\n"
     ]
    },
    {
     "data": {
      "text/html": [
       "<div><iframe src=\"http://127.0.0.1:7862/\" width=\"100%\" height=\"500\" allow=\"autoplay; camera; microphone; clipboard-read; clipboard-write;\" frameborder=\"0\" allowfullscreen></iframe></div>"
      ],
      "text/plain": [
       "<IPython.core.display.HTML object>"
      ]
     },
     "metadata": {},
     "output_type": "display_data"
    },
    {
     "data": {
      "text/plain": []
     },
     "execution_count": 37,
     "metadata": {},
     "output_type": "execute_result"
    },
    {
     "name": "stderr",
     "output_type": "stream",
     "text": [
      "C:\\Users\\victor\\anaconda3\\Lib\\site-packages\\urllib3\\connectionpool.py:1056: InsecureRequestWarning: Unverified HTTPS request is being made to host 'www.moedict.tw'. Adding certificate verification is strongly advised. See: https://urllib3.readthedocs.io/en/1.26.x/advanced-usage.html#ssl-warnings\n",
      "  warnings.warn(\n"
     ]
    }
   ],
   "source": [
    "gr.Interface(lookup, \"text\", \"text\", title=\"國語辭典\").launch()"
   ]
  },
  {
   "cell_type": "code",
   "execution_count": 38,
   "id": "a034e863-9231-4fa7-91ce-deac2d78e6c8",
   "metadata": {
    "tags": []
   },
   "outputs": [
    {
     "name": "stdout",
     "output_type": "stream",
     "text": [
      "Running on local URL:  http://127.0.0.1:7863\n",
      "\n",
      "Could not create share link. Please check your internet connection or our status page: https://status.gradio.app.\n"
     ]
    },
    {
     "data": {
      "text/html": [
       "<div><iframe src=\"http://127.0.0.1:7863/\" width=\"100%\" height=\"500\" allow=\"autoplay; camera; microphone; clipboard-read; clipboard-write;\" frameborder=\"0\" allowfullscreen></iframe></div>"
      ],
      "text/plain": [
       "<IPython.core.display.HTML object>"
      ]
     },
     "metadata": {},
     "output_type": "display_data"
    },
    {
     "data": {
      "text/plain": []
     },
     "execution_count": 38,
     "metadata": {},
     "output_type": "execute_result"
    }
   ],
   "source": [
    "gr.Interface(lookup, \"text\", \"text\", title=\"國語辭典\").launch(share=True)"
   ]
  },
  {
   "cell_type": "markdown",
   "id": "9d3e1070-d7e0-4f1e-b4f3-798d2f587c52",
   "metadata": {},
   "source": [
    "## OpenStreetMap Geocoding API 使用練習"
   ]
  },
  {
   "cell_type": "markdown",
   "id": "8146e8db-2e4b-430a-b62c-48ea13a6e9c5",
   "metadata": {},
   "source": [
    "https://nominatim.org/release-docs/develop/api/Search/"
   ]
  },
  {
   "cell_type": "code",
   "execution_count": 41,
   "id": "64e4efe0-7521-4519-950e-66548e41591f",
   "metadata": {
    "tags": []
   },
   "outputs": [],
   "source": [
    "place = \"高雄市\"\n",
    "url = f\"https://nominatim.openstreetmap.org/search?format=json&q='{place}'\""
   ]
  },
  {
   "cell_type": "code",
   "execution_count": 42,
   "id": "0d1c094b-a1c4-4f9b-8a95-8aa16e2124f4",
   "metadata": {
    "tags": []
   },
   "outputs": [
    {
     "name": "stderr",
     "output_type": "stream",
     "text": [
      "C:\\Users\\victor\\anaconda3\\Lib\\site-packages\\urllib3\\connectionpool.py:1056: InsecureRequestWarning: Unverified HTTPS request is being made to host 'nominatim.openstreetmap.org'. Adding certificate verification is strongly advised. See: https://urllib3.readthedocs.io/en/1.26.x/advanced-usage.html#ssl-warnings\n",
      "  warnings.warn(\n"
     ]
    }
   ],
   "source": [
    "data = requests.get(url, verify=False).json()"
   ]
  },
  {
   "cell_type": "code",
   "execution_count": 43,
   "id": "ea3e1dc5-170c-4348-a219-77b177a32299",
   "metadata": {
    "tags": []
   },
   "outputs": [
    {
     "data": {
      "text/plain": [
       "[{'place_id': 237395083,\n",
       "  'licence': 'Data © OpenStreetMap contributors, ODbL 1.0. http://osm.org/copyright',\n",
       "  'osm_type': 'relation',\n",
       "  'osm_id': 2127079,\n",
       "  'lat': '22.6203348',\n",
       "  'lon': '120.3120375',\n",
       "  'class': 'boundary',\n",
       "  'type': 'administrative',\n",
       "  'place_rank': 8,\n",
       "  'importance': 0.5951571765063468,\n",
       "  'addresstype': 'city',\n",
       "  'name': '高雄市',\n",
       "  'display_name': '高雄市, 臺灣',\n",
       "  'boundingbox': ['10.3447222', '23.4716871', '114.3072222', '121.0490355']}]"
      ]
     },
     "execution_count": 43,
     "metadata": {},
     "output_type": "execute_result"
    }
   ],
   "source": [
    "data"
   ]
  },
  {
   "cell_type": "code",
   "execution_count": 45,
   "id": "29aaf001-7163-4ae0-abad-405721a4ce31",
   "metadata": {
    "tags": []
   },
   "outputs": [
    {
     "data": {
      "text/plain": [
       "'22.6203348'"
      ]
     },
     "execution_count": 45,
     "metadata": {},
     "output_type": "execute_result"
    }
   ],
   "source": [
    "data[0]['lat']"
   ]
  },
  {
   "cell_type": "code",
   "execution_count": 46,
   "id": "533c3afa-cca6-476b-86a6-308f6ad33a66",
   "metadata": {
    "tags": []
   },
   "outputs": [
    {
     "data": {
      "text/plain": [
       "'120.3120375'"
      ]
     },
     "execution_count": 46,
     "metadata": {},
     "output_type": "execute_result"
    }
   ],
   "source": [
    "data[0]['lon']"
   ]
  },
  {
   "cell_type": "code",
   "execution_count": 50,
   "id": "8736a423-9832-4e77-ac24-51a46488592f",
   "metadata": {
    "tags": []
   },
   "outputs": [],
   "source": [
    "def place2gps(place):\n",
    "    url = f\"https://nominatim.openstreetmap.org/search?format=json&q='{place}'\"\n",
    "    data = requests.get(url, verify=False).json()\n",
    "    return float(data[0]['lat']), float(data[0]['lon'])"
   ]
  },
  {
   "cell_type": "code",
   "execution_count": 51,
   "id": "ebd008e1-88a9-4db0-9de2-269a3275c6c0",
   "metadata": {
    "tags": []
   },
   "outputs": [
    {
     "name": "stderr",
     "output_type": "stream",
     "text": [
      "C:\\Users\\victor\\anaconda3\\Lib\\site-packages\\urllib3\\connectionpool.py:1056: InsecureRequestWarning: Unverified HTTPS request is being made to host 'nominatim.openstreetmap.org'. Adding certificate verification is strongly advised. See: https://urllib3.readthedocs.io/en/1.26.x/advanced-usage.html#ssl-warnings\n",
      "  warnings.warn(\n"
     ]
    },
    {
     "data": {
      "text/plain": [
       "(22.6203348, 120.3120375)"
      ]
     },
     "execution_count": 51,
     "metadata": {},
     "output_type": "execute_result"
    }
   ],
   "source": [
    "place2gps('高雄市')"
   ]
  },
  {
   "cell_type": "markdown",
   "id": "0d238035-f608-4023-83d2-9073b794ca61",
   "metadata": {},
   "source": [
    "## 使用上面的geocoding函式，配合folium畫地圖"
   ]
  },
  {
   "cell_type": "code",
   "execution_count": 52,
   "id": "55fc3f86-7320-41fe-84dc-b9f203d8628c",
   "metadata": {
    "tags": []
   },
   "outputs": [],
   "source": [
    "import folium"
   ]
  },
  {
   "cell_type": "code",
   "execution_count": 59,
   "id": "30ab116c-83a4-4049-b36e-886d634b8ee6",
   "metadata": {
    "tags": []
   },
   "outputs": [
    {
     "name": "stderr",
     "output_type": "stream",
     "text": [
      "C:\\Users\\victor\\anaconda3\\Lib\\site-packages\\urllib3\\connectionpool.py:1056: InsecureRequestWarning: Unverified HTTPS request is being made to host 'nominatim.openstreetmap.org'. Adding certificate verification is strongly advised. See: https://urllib3.readthedocs.io/en/1.26.x/advanced-usage.html#ssl-warnings\n",
      "  warnings.warn(\n"
     ]
    },
    {
     "data": {
      "text/html": [
       "<div style=\"width:100%;\"><div style=\"position:relative;width:100%;height:0;padding-bottom:60%;\"><span style=\"color:#565656\">Make this Notebook Trusted to load map: File -> Trust Notebook</span><iframe srcdoc=\"&lt;!DOCTYPE html&gt;\n",
       "&lt;html&gt;\n",
       "&lt;head&gt;\n",
       "    \n",
       "    &lt;meta http-equiv=&quot;content-type&quot; content=&quot;text/html; charset=UTF-8&quot; /&gt;\n",
       "    \n",
       "        &lt;script&gt;\n",
       "            L_NO_TOUCH = false;\n",
       "            L_DISABLE_3D = false;\n",
       "        &lt;/script&gt;\n",
       "    \n",
       "    &lt;style&gt;html, body {width: 100%;height: 100%;margin: 0;padding: 0;}&lt;/style&gt;\n",
       "    &lt;style&gt;#map {position:absolute;top:0;bottom:0;right:0;left:0;}&lt;/style&gt;\n",
       "    &lt;script src=&quot;https://cdn.jsdelivr.net/npm/leaflet@1.9.3/dist/leaflet.js&quot;&gt;&lt;/script&gt;\n",
       "    &lt;script src=&quot;https://code.jquery.com/jquery-1.12.4.min.js&quot;&gt;&lt;/script&gt;\n",
       "    &lt;script src=&quot;https://cdn.jsdelivr.net/npm/bootstrap@5.2.2/dist/js/bootstrap.bundle.min.js&quot;&gt;&lt;/script&gt;\n",
       "    &lt;script src=&quot;https://cdnjs.cloudflare.com/ajax/libs/Leaflet.awesome-markers/2.0.2/leaflet.awesome-markers.js&quot;&gt;&lt;/script&gt;\n",
       "    &lt;link rel=&quot;stylesheet&quot; href=&quot;https://cdn.jsdelivr.net/npm/leaflet@1.9.3/dist/leaflet.css&quot;/&gt;\n",
       "    &lt;link rel=&quot;stylesheet&quot; href=&quot;https://cdn.jsdelivr.net/npm/bootstrap@5.2.2/dist/css/bootstrap.min.css&quot;/&gt;\n",
       "    &lt;link rel=&quot;stylesheet&quot; href=&quot;https://netdna.bootstrapcdn.com/bootstrap/3.0.0/css/bootstrap.min.css&quot;/&gt;\n",
       "    &lt;link rel=&quot;stylesheet&quot; href=&quot;https://cdn.jsdelivr.net/npm/@fortawesome/fontawesome-free@6.2.0/css/all.min.css&quot;/&gt;\n",
       "    &lt;link rel=&quot;stylesheet&quot; href=&quot;https://cdnjs.cloudflare.com/ajax/libs/Leaflet.awesome-markers/2.0.2/leaflet.awesome-markers.css&quot;/&gt;\n",
       "    &lt;link rel=&quot;stylesheet&quot; href=&quot;https://cdn.jsdelivr.net/gh/python-visualization/folium/folium/templates/leaflet.awesome.rotate.min.css&quot;/&gt;\n",
       "    \n",
       "            &lt;meta name=&quot;viewport&quot; content=&quot;width=device-width,\n",
       "                initial-scale=1.0, maximum-scale=1.0, user-scalable=no&quot; /&gt;\n",
       "            &lt;style&gt;\n",
       "                #map_3858a1a736746f2f566360dbb9e1c1a6 {\n",
       "                    position: relative;\n",
       "                    width: 100.0%;\n",
       "                    height: 100.0%;\n",
       "                    left: 0.0%;\n",
       "                    top: 0.0%;\n",
       "                }\n",
       "                .leaflet-container { font-size: 1rem; }\n",
       "            &lt;/style&gt;\n",
       "        \n",
       "&lt;/head&gt;\n",
       "&lt;body&gt;\n",
       "    \n",
       "    \n",
       "            &lt;div class=&quot;folium-map&quot; id=&quot;map_3858a1a736746f2f566360dbb9e1c1a6&quot; &gt;&lt;/div&gt;\n",
       "        \n",
       "&lt;/body&gt;\n",
       "&lt;script&gt;\n",
       "    \n",
       "    \n",
       "            var map_3858a1a736746f2f566360dbb9e1c1a6 = L.map(\n",
       "                &quot;map_3858a1a736746f2f566360dbb9e1c1a6&quot;,\n",
       "                {\n",
       "                    center: [24.199697, 120.61530405436102],\n",
       "                    crs: L.CRS.EPSG3857,\n",
       "                    zoom: 16,\n",
       "                    zoomControl: true,\n",
       "                    preferCanvas: false,\n",
       "                }\n",
       "            );\n",
       "\n",
       "            \n",
       "\n",
       "        \n",
       "    \n",
       "            var tile_layer_e84d14ebf958cf012e3336e9761e8738 = L.tileLayer(\n",
       "                &quot;https://{s}.tile.openstreetmap.org/{z}/{x}/{y}.png&quot;,\n",
       "                {&quot;attribution&quot;: &quot;Data by \\u0026copy; \\u003ca target=\\&quot;_blank\\&quot; href=\\&quot;http://openstreetmap.org\\&quot;\\u003eOpenStreetMap\\u003c/a\\u003e, under \\u003ca target=\\&quot;_blank\\&quot; href=\\&quot;http://www.openstreetmap.org/copyright\\&quot;\\u003eODbL\\u003c/a\\u003e.&quot;, &quot;detectRetina&quot;: false, &quot;maxNativeZoom&quot;: 18, &quot;maxZoom&quot;: 18, &quot;minZoom&quot;: 0, &quot;noWrap&quot;: false, &quot;opacity&quot;: 1, &quot;subdomains&quot;: &quot;abc&quot;, &quot;tms&quot;: false}\n",
       "            ).addTo(map_3858a1a736746f2f566360dbb9e1c1a6);\n",
       "        \n",
       "&lt;/script&gt;\n",
       "&lt;/html&gt;\" style=\"position:absolute;width:100%;height:100%;left:0;top:0;border:none !important;\" allowfullscreen webkitallowfullscreen mozallowfullscreen></iframe></div></div>"
      ],
      "text/plain": [
       "<folium.folium.Map at 0x1da81b3d490>"
      ]
     },
     "execution_count": 59,
     "metadata": {},
     "output_type": "execute_result"
    }
   ],
   "source": [
    "folium.Map(place2gps('台灣康寧'), zoom_start=16)"
   ]
  },
  {
   "cell_type": "code",
   "execution_count": 63,
   "id": "d686d7b2-4f94-4788-a195-d536182795a4",
   "metadata": {
    "tags": []
   },
   "outputs": [
    {
     "name": "stderr",
     "output_type": "stream",
     "text": [
      "C:\\Users\\victor\\anaconda3\\Lib\\site-packages\\urllib3\\connectionpool.py:1056: InsecureRequestWarning: Unverified HTTPS request is being made to host 'nominatim.openstreetmap.org'. Adding certificate verification is strongly advised. See: https://urllib3.readthedocs.io/en/1.26.x/advanced-usage.html#ssl-warnings\n",
      "  warnings.warn(\n"
     ]
    },
    {
     "data": {
      "text/html": [
       "<div style=\"width:100%;\"><div style=\"position:relative;width:100%;height:0;padding-bottom:60%;\"><span style=\"color:#565656\">Make this Notebook Trusted to load map: File -> Trust Notebook</span><iframe srcdoc=\"&lt;!DOCTYPE html&gt;\n",
       "&lt;html&gt;\n",
       "&lt;head&gt;\n",
       "    \n",
       "    &lt;meta http-equiv=&quot;content-type&quot; content=&quot;text/html; charset=UTF-8&quot; /&gt;\n",
       "    \n",
       "        &lt;script&gt;\n",
       "            L_NO_TOUCH = false;\n",
       "            L_DISABLE_3D = false;\n",
       "        &lt;/script&gt;\n",
       "    \n",
       "    &lt;style&gt;html, body {width: 100%;height: 100%;margin: 0;padding: 0;}&lt;/style&gt;\n",
       "    &lt;style&gt;#map {position:absolute;top:0;bottom:0;right:0;left:0;}&lt;/style&gt;\n",
       "    &lt;script src=&quot;https://cdn.jsdelivr.net/npm/leaflet@1.9.3/dist/leaflet.js&quot;&gt;&lt;/script&gt;\n",
       "    &lt;script src=&quot;https://code.jquery.com/jquery-1.12.4.min.js&quot;&gt;&lt;/script&gt;\n",
       "    &lt;script src=&quot;https://cdn.jsdelivr.net/npm/bootstrap@5.2.2/dist/js/bootstrap.bundle.min.js&quot;&gt;&lt;/script&gt;\n",
       "    &lt;script src=&quot;https://cdnjs.cloudflare.com/ajax/libs/Leaflet.awesome-markers/2.0.2/leaflet.awesome-markers.js&quot;&gt;&lt;/script&gt;\n",
       "    &lt;link rel=&quot;stylesheet&quot; href=&quot;https://cdn.jsdelivr.net/npm/leaflet@1.9.3/dist/leaflet.css&quot;/&gt;\n",
       "    &lt;link rel=&quot;stylesheet&quot; href=&quot;https://cdn.jsdelivr.net/npm/bootstrap@5.2.2/dist/css/bootstrap.min.css&quot;/&gt;\n",
       "    &lt;link rel=&quot;stylesheet&quot; href=&quot;https://netdna.bootstrapcdn.com/bootstrap/3.0.0/css/bootstrap.min.css&quot;/&gt;\n",
       "    &lt;link rel=&quot;stylesheet&quot; href=&quot;https://cdn.jsdelivr.net/npm/@fortawesome/fontawesome-free@6.2.0/css/all.min.css&quot;/&gt;\n",
       "    &lt;link rel=&quot;stylesheet&quot; href=&quot;https://cdnjs.cloudflare.com/ajax/libs/Leaflet.awesome-markers/2.0.2/leaflet.awesome-markers.css&quot;/&gt;\n",
       "    &lt;link rel=&quot;stylesheet&quot; href=&quot;https://cdn.jsdelivr.net/gh/python-visualization/folium/folium/templates/leaflet.awesome.rotate.min.css&quot;/&gt;\n",
       "    \n",
       "            &lt;meta name=&quot;viewport&quot; content=&quot;width=device-width,\n",
       "                initial-scale=1.0, maximum-scale=1.0, user-scalable=no&quot; /&gt;\n",
       "            &lt;style&gt;\n",
       "                #map_6e110ca6f9136d848e95b1b23888ed4b {\n",
       "                    position: relative;\n",
       "                    width: 100.0%;\n",
       "                    height: 100.0%;\n",
       "                    left: 0.0%;\n",
       "                    top: 0.0%;\n",
       "                }\n",
       "                .leaflet-container { font-size: 1rem; }\n",
       "            &lt;/style&gt;\n",
       "        \n",
       "&lt;/head&gt;\n",
       "&lt;body&gt;\n",
       "    \n",
       "    \n",
       "            &lt;div class=&quot;folium-map&quot; id=&quot;map_6e110ca6f9136d848e95b1b23888ed4b&quot; &gt;&lt;/div&gt;\n",
       "        \n",
       "&lt;/body&gt;\n",
       "&lt;script&gt;\n",
       "    \n",
       "    \n",
       "            var map_6e110ca6f9136d848e95b1b23888ed4b = L.map(\n",
       "                &quot;map_6e110ca6f9136d848e95b1b23888ed4b&quot;,\n",
       "                {\n",
       "                    center: [22.6183197, 120.29211890690917],\n",
       "                    crs: L.CRS.EPSG3857,\n",
       "                    zoom: 16,\n",
       "                    zoomControl: true,\n",
       "                    preferCanvas: false,\n",
       "                }\n",
       "            );\n",
       "\n",
       "            \n",
       "\n",
       "        \n",
       "    \n",
       "            var tile_layer_68ed567fabcb9a105902b02c0a981223 = L.tileLayer(\n",
       "                &quot;https://{s}.tile.openstreetmap.org/{z}/{x}/{y}.png&quot;,\n",
       "                {&quot;attribution&quot;: &quot;Data by \\u0026copy; \\u003ca target=\\&quot;_blank\\&quot; href=\\&quot;http://openstreetmap.org\\&quot;\\u003eOpenStreetMap\\u003c/a\\u003e, under \\u003ca target=\\&quot;_blank\\&quot; href=\\&quot;http://www.openstreetmap.org/copyright\\&quot;\\u003eODbL\\u003c/a\\u003e.&quot;, &quot;detectRetina&quot;: false, &quot;maxNativeZoom&quot;: 18, &quot;maxZoom&quot;: 18, &quot;minZoom&quot;: 0, &quot;noWrap&quot;: false, &quot;opacity&quot;: 1, &quot;subdomains&quot;: &quot;abc&quot;, &quot;tms&quot;: false}\n",
       "            ).addTo(map_6e110ca6f9136d848e95b1b23888ed4b);\n",
       "        \n",
       "    \n",
       "            var marker_8358d41418a6caa557c38c43f5ad95fa = L.marker(\n",
       "                [22.6183197, 120.29211890690917],\n",
       "                {}\n",
       "            ).addTo(map_6e110ca6f9136d848e95b1b23888ed4b);\n",
       "        \n",
       "    \n",
       "        var popup_07cbe7f3d168c81698c5246a46da01e4 = L.popup({&quot;maxWidth&quot;: &quot;100%&quot;});\n",
       "\n",
       "        \n",
       "            \n",
       "                var html_cf3fad87cfabde903cb2bb359c1237c9 = $(`&lt;div id=&quot;html_cf3fad87cfabde903cb2bb359c1237c9&quot; style=&quot;width: 100.0%; height: 100.0%;&quot;&gt;高雄流行音樂中心&lt;/div&gt;`)[0];\n",
       "                popup_07cbe7f3d168c81698c5246a46da01e4.setContent(html_cf3fad87cfabde903cb2bb359c1237c9);\n",
       "            \n",
       "        \n",
       "\n",
       "        marker_8358d41418a6caa557c38c43f5ad95fa.bindPopup(popup_07cbe7f3d168c81698c5246a46da01e4)\n",
       "        ;\n",
       "\n",
       "        \n",
       "    \n",
       "&lt;/script&gt;\n",
       "&lt;/html&gt;\" style=\"position:absolute;width:100%;height:100%;left:0;top:0;border:none !important;\" allowfullscreen webkitallowfullscreen mozallowfullscreen></iframe></div></div>"
      ],
      "text/plain": [
       "<folium.folium.Map at 0x1da800bdb90>"
      ]
     },
     "execution_count": 63,
     "metadata": {},
     "output_type": "execute_result"
    }
   ],
   "source": [
    "place = \"高雄流行音樂中心\"\n",
    "gps = place2gps(place)\n",
    "m = folium.Map(gps, zoom_start=16)\n",
    "folium.Marker(gps, popup=place).add_to(m)\n",
    "m"
   ]
  },
  {
   "cell_type": "code",
   "execution_count": 64,
   "id": "d759540b-b205-4ce7-9df4-6c5ad598df8e",
   "metadata": {
    "tags": []
   },
   "outputs": [],
   "source": [
    "def place2gps(place):\n",
    "    try:\n",
    "        url = f\"https://nominatim.openstreetmap.org/search?format=json&q='{place}'\"\n",
    "        data = requests.get(url, verify=False).json()\n",
    "        return float(data[0]['lat']), float(data[0]['lon'])\n",
    "    except Exception:\n",
    "        return None"
   ]
  },
  {
   "cell_type": "code",
   "execution_count": 69,
   "id": "c876b64d-8f7f-4e64-9061-ef50cb64f4cf",
   "metadata": {
    "tags": []
   },
   "outputs": [
    {
     "name": "stderr",
     "output_type": "stream",
     "text": [
      "C:\\Users\\victor\\anaconda3\\Lib\\site-packages\\urllib3\\connectionpool.py:1056: InsecureRequestWarning: Unverified HTTPS request is being made to host 'nominatim.openstreetmap.org'. Adding certificate verification is strongly advised. See: https://urllib3.readthedocs.io/en/1.26.x/advanced-usage.html#ssl-warnings\n",
      "  warnings.warn(\n"
     ]
    },
    {
     "data": {
      "text/html": [
       "<div style=\"width:100%;\"><div style=\"position:relative;width:100%;height:0;padding-bottom:60%;\"><span style=\"color:#565656\">Make this Notebook Trusted to load map: File -> Trust Notebook</span><iframe srcdoc=\"&lt;!DOCTYPE html&gt;\n",
       "&lt;html&gt;\n",
       "&lt;head&gt;\n",
       "    \n",
       "    &lt;meta http-equiv=&quot;content-type&quot; content=&quot;text/html; charset=UTF-8&quot; /&gt;\n",
       "    \n",
       "        &lt;script&gt;\n",
       "            L_NO_TOUCH = false;\n",
       "            L_DISABLE_3D = false;\n",
       "        &lt;/script&gt;\n",
       "    \n",
       "    &lt;style&gt;html, body {width: 100%;height: 100%;margin: 0;padding: 0;}&lt;/style&gt;\n",
       "    &lt;style&gt;#map {position:absolute;top:0;bottom:0;right:0;left:0;}&lt;/style&gt;\n",
       "    &lt;script src=&quot;https://cdn.jsdelivr.net/npm/leaflet@1.9.3/dist/leaflet.js&quot;&gt;&lt;/script&gt;\n",
       "    &lt;script src=&quot;https://code.jquery.com/jquery-1.12.4.min.js&quot;&gt;&lt;/script&gt;\n",
       "    &lt;script src=&quot;https://cdn.jsdelivr.net/npm/bootstrap@5.2.2/dist/js/bootstrap.bundle.min.js&quot;&gt;&lt;/script&gt;\n",
       "    &lt;script src=&quot;https://cdnjs.cloudflare.com/ajax/libs/Leaflet.awesome-markers/2.0.2/leaflet.awesome-markers.js&quot;&gt;&lt;/script&gt;\n",
       "    &lt;link rel=&quot;stylesheet&quot; href=&quot;https://cdn.jsdelivr.net/npm/leaflet@1.9.3/dist/leaflet.css&quot;/&gt;\n",
       "    &lt;link rel=&quot;stylesheet&quot; href=&quot;https://cdn.jsdelivr.net/npm/bootstrap@5.2.2/dist/css/bootstrap.min.css&quot;/&gt;\n",
       "    &lt;link rel=&quot;stylesheet&quot; href=&quot;https://netdna.bootstrapcdn.com/bootstrap/3.0.0/css/bootstrap.min.css&quot;/&gt;\n",
       "    &lt;link rel=&quot;stylesheet&quot; href=&quot;https://cdn.jsdelivr.net/npm/@fortawesome/fontawesome-free@6.2.0/css/all.min.css&quot;/&gt;\n",
       "    &lt;link rel=&quot;stylesheet&quot; href=&quot;https://cdnjs.cloudflare.com/ajax/libs/Leaflet.awesome-markers/2.0.2/leaflet.awesome-markers.css&quot;/&gt;\n",
       "    &lt;link rel=&quot;stylesheet&quot; href=&quot;https://cdn.jsdelivr.net/gh/python-visualization/folium/folium/templates/leaflet.awesome.rotate.min.css&quot;/&gt;\n",
       "    \n",
       "            &lt;meta name=&quot;viewport&quot; content=&quot;width=device-width,\n",
       "                initial-scale=1.0, maximum-scale=1.0, user-scalable=no&quot; /&gt;\n",
       "            &lt;style&gt;\n",
       "                #map_f9b057d60c26dc27739fbd25bbf60106 {\n",
       "                    position: relative;\n",
       "                    width: 100.0%;\n",
       "                    height: 100.0%;\n",
       "                    left: 0.0%;\n",
       "                    top: 0.0%;\n",
       "                }\n",
       "                .leaflet-container { font-size: 1rem; }\n",
       "            &lt;/style&gt;\n",
       "        \n",
       "&lt;/head&gt;\n",
       "&lt;body&gt;\n",
       "    \n",
       "    \n",
       "            &lt;div class=&quot;folium-map&quot; id=&quot;map_f9b057d60c26dc27739fbd25bbf60106&quot; &gt;&lt;/div&gt;\n",
       "        \n",
       "&lt;/body&gt;\n",
       "&lt;script&gt;\n",
       "    \n",
       "    \n",
       "            var map_f9b057d60c26dc27739fbd25bbf60106 = L.map(\n",
       "                &quot;map_f9b057d60c26dc27739fbd25bbf60106&quot;,\n",
       "                {\n",
       "                    center: [22.660662549999998, 120.35109204721456],\n",
       "                    crs: L.CRS.EPSG3857,\n",
       "                    zoom: 16,\n",
       "                    zoomControl: true,\n",
       "                    preferCanvas: false,\n",
       "                }\n",
       "            );\n",
       "\n",
       "            \n",
       "\n",
       "        \n",
       "    \n",
       "            var tile_layer_92e0a610ad1ee9454ceb00269df1b123 = L.tileLayer(\n",
       "                &quot;https://{s}.tile.openstreetmap.org/{z}/{x}/{y}.png&quot;,\n",
       "                {&quot;attribution&quot;: &quot;Data by \\u0026copy; \\u003ca target=\\&quot;_blank\\&quot; href=\\&quot;http://openstreetmap.org\\&quot;\\u003eOpenStreetMap\\u003c/a\\u003e, under \\u003ca target=\\&quot;_blank\\&quot; href=\\&quot;http://www.openstreetmap.org/copyright\\&quot;\\u003eODbL\\u003c/a\\u003e.&quot;, &quot;detectRetina&quot;: false, &quot;maxNativeZoom&quot;: 18, &quot;maxZoom&quot;: 18, &quot;minZoom&quot;: 0, &quot;noWrap&quot;: false, &quot;opacity&quot;: 1, &quot;subdomains&quot;: &quot;abc&quot;, &quot;tms&quot;: false}\n",
       "            ).addTo(map_f9b057d60c26dc27739fbd25bbf60106);\n",
       "        \n",
       "    \n",
       "            var marker_75d89fa43afae0cc7a60f2335667ffa0 = L.marker(\n",
       "                [22.660662549999998, 120.35109204721456],\n",
       "                {}\n",
       "            ).addTo(map_f9b057d60c26dc27739fbd25bbf60106);\n",
       "        \n",
       "    \n",
       "        var popup_54467017ba5168936e996d397123e972 = L.popup({&quot;maxWidth&quot;: &quot;100%&quot;});\n",
       "\n",
       "        \n",
       "            \n",
       "                var html_3d9978bedbcb27bce9f95fd5bd1c751c = $(`&lt;div id=&quot;html_3d9978bedbcb27bce9f95fd5bd1c751c&quot; style=&quot;width: 100.0%; height: 100.0%;&quot;&gt;澄清湖&lt;/div&gt;`)[0];\n",
       "                popup_54467017ba5168936e996d397123e972.setContent(html_3d9978bedbcb27bce9f95fd5bd1c751c);\n",
       "            \n",
       "        \n",
       "\n",
       "        marker_75d89fa43afae0cc7a60f2335667ffa0.bindPopup(popup_54467017ba5168936e996d397123e972)\n",
       "        ;\n",
       "\n",
       "        \n",
       "    \n",
       "&lt;/script&gt;\n",
       "&lt;/html&gt;\" style=\"position:absolute;width:100%;height:100%;left:0;top:0;border:none !important;\" allowfullscreen webkitallowfullscreen mozallowfullscreen></iframe></div></div>"
      ],
      "text/plain": [
       "<folium.folium.Map at 0x1da81b7db10>"
      ]
     },
     "execution_count": 69,
     "metadata": {},
     "output_type": "execute_result"
    }
   ],
   "source": [
    "place = \"澄清湖\"\n",
    "gps = place2gps(place)\n",
    "if gps:\n",
    "    m = folium.Map(gps, zoom_start=16)\n",
    "    folium.Marker(gps, popup=place).add_to(m)\n",
    "else:\n",
    "    m = folium.Map()\n",
    "m"
   ]
  },
  {
   "cell_type": "code",
   "execution_count": 70,
   "id": "e2b7a21a-8e1f-4640-9a19-0d5168e2f0fb",
   "metadata": {
    "tags": []
   },
   "outputs": [],
   "source": [
    "x = None"
   ]
  },
  {
   "cell_type": "code",
   "execution_count": 71,
   "id": "83692a60-42e1-47fd-9b3b-521266b7b3f9",
   "metadata": {
    "tags": []
   },
   "outputs": [
    {
     "data": {
      "text/plain": [
       "False"
      ]
     },
     "execution_count": 71,
     "metadata": {},
     "output_type": "execute_result"
    }
   ],
   "source": [
    "bool(x)"
   ]
  },
  {
   "cell_type": "markdown",
   "id": "283b1972-033b-4e09-ad5f-a7540ba33764",
   "metadata": {},
   "source": [
    "# Python資料分析簡介\n",
    "\n",
    "* NumPy ==> 科學運算基礎套件\n",
    "* MatPlotLib ==> 繪圖基礎套件\n",
    "* Pandas ==> 資料分析基礎套件"
   ]
  },
  {
   "cell_type": "markdown",
   "id": "467f81bc-2a58-4a64-b985-13602136ab3a",
   "metadata": {},
   "source": [
    "套件載入慣例：\n",
    "```python\n",
    "import numpy as np\n",
    "import matplotlib.pyplot as plt\n",
    "import pandas as pd\n",
    "```\n",
    "\n",
    "<pre>\n",
    "```python\n",
    "import numpy as np\n",
    "import matplotlib.pyplot as plt\n",
    "import pandas as pd\n",
    "```\n",
    "</pre>"
   ]
  },
  {
   "cell_type": "markdown",
   "id": "e3e3314f-4584-4c64-9928-fc669e335444",
   "metadata": {},
   "source": [
    "## NumPy (Numerical Python)\n",
    "\n",
    "* ndarray (N-Dimensional Arrays)\n",
    "* ufunc (Universal Functions)"
   ]
  },
  {
   "cell_type": "markdown",
   "id": "4bce6d3a-1749-4227-a598-0770d8815024",
   "metadata": {},
   "source": [
    "### 為什麼需要Numpy？"
   ]
  },
  {
   "cell_type": "code",
   "execution_count": 72,
   "id": "a3d27f2e-0b3d-49cd-9a30-d3c9cfd13fe9",
   "metadata": {
    "tags": []
   },
   "outputs": [],
   "source": [
    "x = [1, 2, 3]\n",
    "y = [4, 5, 6]"
   ]
  },
  {
   "cell_type": "code",
   "execution_count": 73,
   "id": "f82c6421-37d0-40be-904a-eb3642f149fb",
   "metadata": {
    "tags": []
   },
   "outputs": [
    {
     "data": {
      "text/plain": [
       "[1, 2, 3, 4, 5, 6]"
      ]
     },
     "execution_count": 73,
     "metadata": {},
     "output_type": "execute_result"
    }
   ],
   "source": [
    "x + y"
   ]
  },
  {
   "cell_type": "code",
   "execution_count": 74,
   "id": "71604296-1d76-49aa-a8e9-41e140845a28",
   "metadata": {
    "tags": []
   },
   "outputs": [
    {
     "data": {
      "text/plain": [
       "[1, 2, 3, 1, 2, 3]"
      ]
     },
     "execution_count": 74,
     "metadata": {},
     "output_type": "execute_result"
    }
   ],
   "source": [
    "2 * x"
   ]
  },
  {
   "cell_type": "code",
   "execution_count": 75,
   "id": "9685302e-a7e7-4e67-88d7-781a2b68b317",
   "metadata": {
    "tags": []
   },
   "outputs": [],
   "source": [
    "import numpy as np"
   ]
  },
  {
   "cell_type": "code",
   "execution_count": 76,
   "id": "3b2838c7-23cc-4853-b07e-d790fef7d162",
   "metadata": {
    "tags": []
   },
   "outputs": [],
   "source": [
    "x1 = np.array(x)\n",
    "y1 = np.array(y)"
   ]
  },
  {
   "cell_type": "code",
   "execution_count": 77,
   "id": "6a9419a6-9310-434b-a49f-40afc0fe5874",
   "metadata": {
    "tags": []
   },
   "outputs": [
    {
     "data": {
      "text/plain": [
       "array([5, 7, 9])"
      ]
     },
     "execution_count": 77,
     "metadata": {},
     "output_type": "execute_result"
    }
   ],
   "source": [
    "x1 + y1"
   ]
  },
  {
   "cell_type": "code",
   "execution_count": 78,
   "id": "a63703db-baf8-4e75-9270-396845daf5e7",
   "metadata": {
    "tags": []
   },
   "outputs": [
    {
     "data": {
      "text/plain": [
       "array([2, 4, 6])"
      ]
     },
     "execution_count": 78,
     "metadata": {},
     "output_type": "execute_result"
    }
   ],
   "source": [
    "2 * x1"
   ]
  },
  {
   "cell_type": "markdown",
   "id": "32027e13-78ea-4832-ad80-6c2f534b9eb1",
   "metadata": {},
   "source": [
    "### ndarray"
   ]
  },
  {
   "cell_type": "code",
   "execution_count": 80,
   "id": "083a6e36-5019-4eba-a2c3-1c2b718c8a9d",
   "metadata": {
    "tags": []
   },
   "outputs": [],
   "source": [
    "m = [1, 'abc', True]"
   ]
  },
  {
   "cell_type": "code",
   "execution_count": 81,
   "id": "020b1903-738e-43de-8270-47b4da7642a0",
   "metadata": {
    "tags": []
   },
   "outputs": [],
   "source": [
    "m1 = np.array(m)"
   ]
  },
  {
   "cell_type": "code",
   "execution_count": 82,
   "id": "e8b883e2-f0ea-456d-8ae0-de822146714d",
   "metadata": {
    "tags": []
   },
   "outputs": [
    {
     "data": {
      "text/plain": [
       "array(['1', 'abc', 'True'], dtype='<U11')"
      ]
     },
     "execution_count": 82,
     "metadata": {},
     "output_type": "execute_result"
    }
   ],
   "source": [
    "m1"
   ]
  },
  {
   "cell_type": "code",
   "execution_count": 85,
   "id": "d0ffef3d-3403-4a1e-b23b-0f6d432a0523",
   "metadata": {
    "tags": []
   },
   "outputs": [
    {
     "data": {
      "text/plain": [
       "3"
      ]
     },
     "execution_count": 85,
     "metadata": {},
     "output_type": "execute_result"
    }
   ],
   "source": [
    "m1.size"
   ]
  },
  {
   "cell_type": "code",
   "execution_count": 86,
   "id": "0a9b14fe-b229-4fbc-967c-60e29c0138b0",
   "metadata": {
    "tags": []
   },
   "outputs": [
    {
     "data": {
      "text/plain": [
       "(3,)"
      ]
     },
     "execution_count": 86,
     "metadata": {},
     "output_type": "execute_result"
    }
   ],
   "source": [
    "m1.shape"
   ]
  },
  {
   "cell_type": "code",
   "execution_count": 87,
   "id": "c73b43b8-d808-4bc9-8658-4d589ae5af07",
   "metadata": {
    "tags": []
   },
   "outputs": [
    {
     "data": {
      "text/plain": [
       "dtype('<U11')"
      ]
     },
     "execution_count": 87,
     "metadata": {},
     "output_type": "execute_result"
    }
   ],
   "source": [
    "m1.dtype"
   ]
  },
  {
   "cell_type": "code",
   "execution_count": 88,
   "id": "ca27429a-5a89-44c6-8405-aa6f9626e138",
   "metadata": {
    "tags": []
   },
   "outputs": [],
   "source": [
    "k = (3, )"
   ]
  },
  {
   "cell_type": "code",
   "execution_count": 89,
   "id": "2472575b-480d-475a-9eee-ce762977ed71",
   "metadata": {
    "tags": []
   },
   "outputs": [
    {
     "data": {
      "text/plain": [
       "tuple"
      ]
     },
     "execution_count": 89,
     "metadata": {},
     "output_type": "execute_result"
    }
   ],
   "source": [
    "type(k)"
   ]
  },
  {
   "cell_type": "code",
   "execution_count": 90,
   "id": "5bf017f3-b5f6-4f37-8655-cbd77dfdbeff",
   "metadata": {
    "tags": []
   },
   "outputs": [],
   "source": [
    "j = (3)"
   ]
  },
  {
   "cell_type": "code",
   "execution_count": 91,
   "id": "bf750bcc-35a9-43f6-bced-e4abd46106dc",
   "metadata": {
    "tags": []
   },
   "outputs": [
    {
     "data": {
      "text/plain": [
       "int"
      ]
     },
     "execution_count": 91,
     "metadata": {},
     "output_type": "execute_result"
    }
   ],
   "source": [
    "type(j)"
   ]
  },
  {
   "cell_type": "code",
   "execution_count": 105,
   "id": "19b73085-303b-46b1-931a-9e9cef4d9c66",
   "metadata": {
    "tags": []
   },
   "outputs": [],
   "source": [
    "z = [[1, 2, 3], [4, 5, 6], [7, 8, 9]]"
   ]
  },
  {
   "cell_type": "code",
   "execution_count": 106,
   "id": "4ff1c2b1-872a-43ed-a409-100a95ebd93f",
   "metadata": {
    "tags": []
   },
   "outputs": [
    {
     "data": {
      "text/plain": [
       "3"
      ]
     },
     "execution_count": 106,
     "metadata": {},
     "output_type": "execute_result"
    }
   ],
   "source": [
    "len(z)"
   ]
  },
  {
   "cell_type": "code",
   "execution_count": 108,
   "id": "96e92b92-c5cb-4fa6-b1fb-0ea30bc781d9",
   "metadata": {
    "tags": []
   },
   "outputs": [],
   "source": [
    "z1 = np.array(z)"
   ]
  },
  {
   "cell_type": "code",
   "execution_count": 109,
   "id": "00506afc-9b08-40c8-b015-c6dbf4495118",
   "metadata": {
    "tags": []
   },
   "outputs": [
    {
     "data": {
      "text/plain": [
       "9"
      ]
     },
     "execution_count": 109,
     "metadata": {},
     "output_type": "execute_result"
    }
   ],
   "source": [
    "z1.size"
   ]
  },
  {
   "cell_type": "code",
   "execution_count": 110,
   "id": "afb266d7-c8dd-4521-b595-f77e652c0d30",
   "metadata": {
    "tags": []
   },
   "outputs": [
    {
     "data": {
      "text/plain": [
       "(3, 3)"
      ]
     },
     "execution_count": 110,
     "metadata": {},
     "output_type": "execute_result"
    }
   ],
   "source": [
    "z1.shape"
   ]
  },
  {
   "cell_type": "code",
   "execution_count": 111,
   "id": "9fc29901-e7a1-4ace-83ad-ad42a4a07490",
   "metadata": {
    "tags": []
   },
   "outputs": [
    {
     "data": {
      "text/plain": [
       "array([[1, 2, 3],\n",
       "       [4, 5, 6],\n",
       "       [7, 8, 9]])"
      ]
     },
     "execution_count": 111,
     "metadata": {},
     "output_type": "execute_result"
    }
   ],
   "source": [
    "z1"
   ]
  },
  {
   "cell_type": "code",
   "execution_count": 113,
   "id": "115d4485-f4ff-4e7d-b6b5-9ddefd027c2f",
   "metadata": {
    "tags": []
   },
   "outputs": [],
   "source": [
    "A = np.arange(25)"
   ]
  },
  {
   "cell_type": "code",
   "execution_count": 114,
   "id": "a3bd129c-5e59-4dd1-ae31-149cf3ce13f7",
   "metadata": {
    "tags": []
   },
   "outputs": [
    {
     "data": {
      "text/plain": [
       "array([ 0,  1,  2,  3,  4,  5,  6,  7,  8,  9, 10, 11, 12, 13, 14, 15, 16,\n",
       "       17, 18, 19, 20, 21, 22, 23, 24])"
      ]
     },
     "execution_count": 114,
     "metadata": {},
     "output_type": "execute_result"
    }
   ],
   "source": [
    "A"
   ]
  },
  {
   "cell_type": "code",
   "execution_count": 115,
   "id": "bafea3f5-59c2-4491-a44a-6b6fab1a005d",
   "metadata": {
    "tags": []
   },
   "outputs": [
    {
     "data": {
      "text/plain": [
       "25"
      ]
     },
     "execution_count": 115,
     "metadata": {},
     "output_type": "execute_result"
    }
   ],
   "source": [
    "A.size"
   ]
  },
  {
   "cell_type": "code",
   "execution_count": 116,
   "id": "018532f3-364b-473d-80d1-57b41286cae5",
   "metadata": {
    "tags": []
   },
   "outputs": [
    {
     "data": {
      "text/plain": [
       "(25,)"
      ]
     },
     "execution_count": 116,
     "metadata": {},
     "output_type": "execute_result"
    }
   ],
   "source": [
    "A.shape"
   ]
  },
  {
   "cell_type": "code",
   "execution_count": 117,
   "id": "d36a9bd9-f7e3-4835-bf0b-367c474a7a1c",
   "metadata": {
    "tags": []
   },
   "outputs": [
    {
     "data": {
      "text/plain": [
       "array([[ 0,  1,  2,  3,  4],\n",
       "       [ 5,  6,  7,  8,  9],\n",
       "       [10, 11, 12, 13, 14],\n",
       "       [15, 16, 17, 18, 19],\n",
       "       [20, 21, 22, 23, 24]])"
      ]
     },
     "execution_count": 117,
     "metadata": {},
     "output_type": "execute_result"
    }
   ],
   "source": [
    "A.reshape(5, 5)"
   ]
  },
  {
   "cell_type": "code",
   "execution_count": 118,
   "id": "47ad8b98-76c4-4246-ba0a-4d808b08b764",
   "metadata": {
    "tags": []
   },
   "outputs": [
    {
     "data": {
      "text/plain": [
       "array([ 0,  1,  2,  3,  4,  5,  6,  7,  8,  9, 10, 11, 12, 13, 14, 15, 16,\n",
       "       17, 18, 19, 20, 21, 22, 23, 24])"
      ]
     },
     "execution_count": 118,
     "metadata": {},
     "output_type": "execute_result"
    }
   ],
   "source": [
    "A"
   ]
  },
  {
   "cell_type": "code",
   "execution_count": 119,
   "id": "2e2f34fe-0720-4bfa-ae27-b55cab689400",
   "metadata": {
    "tags": []
   },
   "outputs": [],
   "source": [
    "B = A.reshape(5, 5)"
   ]
  },
  {
   "cell_type": "code",
   "execution_count": 120,
   "id": "f4a3e0d7-7734-4fd4-a966-eef3c5f57026",
   "metadata": {
    "tags": []
   },
   "outputs": [
    {
     "data": {
      "text/plain": [
       "array([[ 0,  1,  2,  3,  4],\n",
       "       [ 5,  6,  7,  8,  9],\n",
       "       [10, 11, 12, 13, 14],\n",
       "       [15, 16, 17, 18, 19],\n",
       "       [20, 21, 22, 23, 24]])"
      ]
     },
     "execution_count": 120,
     "metadata": {},
     "output_type": "execute_result"
    }
   ],
   "source": [
    "B"
   ]
  },
  {
   "cell_type": "markdown",
   "id": "dc8dc476-8d31-4aed-9564-51bfaaf6a458",
   "metadata": {},
   "source": [
    "### ufunc (Universal Functions)"
   ]
  },
  {
   "cell_type": "code",
   "execution_count": 121,
   "id": "ec292991-f846-4b05-b71e-04af689efe55",
   "metadata": {
    "tags": []
   },
   "outputs": [],
   "source": [
    "import math"
   ]
  },
  {
   "cell_type": "code",
   "execution_count": 122,
   "id": "2adac0bd-a286-47b1-80f1-def85dc0644b",
   "metadata": {
    "tags": []
   },
   "outputs": [
    {
     "data": {
      "text/plain": [
       "3.141592653589793"
      ]
     },
     "execution_count": 122,
     "metadata": {},
     "output_type": "execute_result"
    }
   ],
   "source": [
    "math.pi"
   ]
  },
  {
   "cell_type": "code",
   "execution_count": 123,
   "id": "8d8cc626-4089-4b7d-8abb-206f304109d2",
   "metadata": {
    "tags": []
   },
   "outputs": [
    {
     "data": {
      "text/plain": [
       "1.0"
      ]
     },
     "execution_count": 123,
     "metadata": {},
     "output_type": "execute_result"
    }
   ],
   "source": [
    "math.sin(math.pi/2)"
   ]
  },
  {
   "cell_type": "code",
   "execution_count": 124,
   "id": "a4cfaaf9-d34e-43f9-8716-62f9e9d8cdef",
   "metadata": {
    "tags": []
   },
   "outputs": [
    {
     "ename": "TypeError",
     "evalue": "must be real number, not list",
     "output_type": "error",
     "traceback": [
      "\u001b[1;31m---------------------------------------------------------------------------\u001b[0m",
      "\u001b[1;31mTypeError\u001b[0m                                 Traceback (most recent call last)",
      "Cell \u001b[1;32mIn[124], line 1\u001b[0m\n\u001b[1;32m----> 1\u001b[0m math\u001b[38;5;241m.\u001b[39msin([math\u001b[38;5;241m.\u001b[39mpi\u001b[38;5;241m/\u001b[39m\u001b[38;5;241m2\u001b[39m, math\u001b[38;5;241m.\u001b[39mpi, math\u001b[38;5;241m.\u001b[39mpi\u001b[38;5;241m*\u001b[39m\u001b[38;5;241m3\u001b[39m\u001b[38;5;241m/\u001b[39m\u001b[38;5;241m2\u001b[39m])\n",
      "\u001b[1;31mTypeError\u001b[0m: must be real number, not list"
     ]
    }
   ],
   "source": [
    "math.sin([math.pi/2, math.pi, math.pi*3/2])"
   ]
  },
  {
   "cell_type": "code",
   "execution_count": 125,
   "id": "eec06c7a-4ad3-408f-834b-deb095ded478",
   "metadata": {
    "tags": []
   },
   "outputs": [
    {
     "data": {
      "text/plain": [
       "3.141592653589793"
      ]
     },
     "execution_count": 125,
     "metadata": {},
     "output_type": "execute_result"
    }
   ],
   "source": [
    "np.pi"
   ]
  },
  {
   "cell_type": "code",
   "execution_count": 126,
   "id": "dbba6540-fcc0-407e-b75a-a757fb53cb90",
   "metadata": {
    "tags": []
   },
   "outputs": [
    {
     "data": {
      "text/plain": [
       "1.0"
      ]
     },
     "execution_count": 126,
     "metadata": {},
     "output_type": "execute_result"
    }
   ],
   "source": [
    "np.sin(np.pi/2)"
   ]
  },
  {
   "cell_type": "code",
   "execution_count": 127,
   "id": "37119ebe-8898-4398-8c66-70818647ebf9",
   "metadata": {
    "tags": []
   },
   "outputs": [
    {
     "data": {
      "text/plain": [
       "array([ 1.0000000e+00,  1.2246468e-16, -1.0000000e+00])"
      ]
     },
     "execution_count": 127,
     "metadata": {},
     "output_type": "execute_result"
    }
   ],
   "source": [
    "np.sin([np.pi/2, np.pi, np.pi*3/2])"
   ]
  },
  {
   "cell_type": "code",
   "execution_count": null,
   "id": "2dcca500-b2ad-41bb-9b4d-6d53b25794cd",
   "metadata": {},
   "outputs": [],
   "source": []
  }
 ],
 "metadata": {
  "kernelspec": {
   "display_name": "Python 3 (ipykernel)",
   "language": "python",
   "name": "python3"
  },
  "language_info": {
   "codemirror_mode": {
    "name": "ipython",
    "version": 3
   },
   "file_extension": ".py",
   "mimetype": "text/x-python",
   "name": "python",
   "nbconvert_exporter": "python",
   "pygments_lexer": "ipython3",
   "version": "3.11.5"
  }
 },
 "nbformat": 4,
 "nbformat_minor": 5
}
