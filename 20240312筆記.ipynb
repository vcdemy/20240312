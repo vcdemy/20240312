{
 "cells": [
  {
   "cell_type": "markdown",
   "id": "6d738ffc-8be7-41dc-982b-4c86c229ab17",
   "metadata": {},
   "source": [
    "# 20240312筆記"
   ]
  },
  {
   "cell_type": "markdown",
   "id": "13f63131-ce78-4fac-b765-607a68a55b70",
   "metadata": {},
   "source": [
    "## 複習萌典API的使用"
   ]
  },
  {
   "cell_type": "markdown",
   "id": "d1f73287-d677-49d2-8d39-7af9008d7cce",
   "metadata": {},
   "source": [
    "https://github.com/g0v/moedict-webkit"
   ]
  },
  {
   "cell_type": "code",
   "execution_count": 1,
   "id": "be77feab-efb7-480a-a377-ae8e2287bb25",
   "metadata": {
    "tags": []
   },
   "outputs": [],
   "source": [
    "import requests"
   ]
  },
  {
   "cell_type": "code",
   "execution_count": 2,
   "id": "6c4ba754-dcea-4bce-b097-38c391511c80",
   "metadata": {
    "tags": []
   },
   "outputs": [],
   "source": [
    "# 字串相加 - 01\n",
    "word = \"教室\"\n",
    "url = \"https://www.moedict.tw/uni/\" + word"
   ]
  },
  {
   "cell_type": "code",
   "execution_count": 5,
   "id": "f9994ef9-a855-4506-b8c6-a758c612889c",
   "metadata": {
    "tags": []
   },
   "outputs": [
    {
     "data": {
      "text/plain": [
       "'https://www.moedict.tw/uni/教室'"
      ]
     },
     "execution_count": 5,
     "metadata": {},
     "output_type": "execute_result"
    }
   ],
   "source": [
    "url"
   ]
  },
  {
   "cell_type": "code",
   "execution_count": 6,
   "id": "5bb196d6-2671-42c1-be7f-ef26b80a5e18",
   "metadata": {
    "tags": []
   },
   "outputs": [],
   "source": [
    "# 字串相加 - 02\n",
    "word = \"教室\"\n",
    "url = f\"https://www.moedict.tw/uni/{word}\""
   ]
  },
  {
   "cell_type": "code",
   "execution_count": 7,
   "id": "f2220f12-e61d-47d1-a285-035883abbdc1",
   "metadata": {
    "tags": []
   },
   "outputs": [
    {
     "data": {
      "text/plain": [
       "'https://www.moedict.tw/uni/教室'"
      ]
     },
     "execution_count": 7,
     "metadata": {},
     "output_type": "execute_result"
    }
   ],
   "source": [
    "url"
   ]
  },
  {
   "cell_type": "code",
   "execution_count": 8,
   "id": "d323e71c-49d8-42be-a38a-d0065b68483e",
   "metadata": {
    "tags": []
   },
   "outputs": [
    {
     "name": "stderr",
     "output_type": "stream",
     "text": [
      "C:\\Users\\victor\\anaconda3\\Lib\\site-packages\\urllib3\\connectionpool.py:1056: InsecureRequestWarning: Unverified HTTPS request is being made to host 'www.moedict.tw'. Adding certificate verification is strongly advised. See: https://urllib3.readthedocs.io/en/1.26.x/advanced-usage.html#ssl-warnings\n",
      "  warnings.warn(\n"
     ]
    }
   ],
   "source": [
    "r = requests.get(url, verify=False)"
   ]
  },
  {
   "cell_type": "code",
   "execution_count": 4,
   "id": "838f11ae-3cc5-4907-83c3-457ff975982d",
   "metadata": {
    "tags": []
   },
   "outputs": [
    {
     "name": "stdout",
     "output_type": "stream",
     "text": [
      "\t{\n",
      "\t\t\"heteronyms\": [\n",
      "\t\t\t{\n",
      "\t\t\t\t\"bopomofo\": \"ㄐㄧㄠˋ ㄕˋ\",\n",
      "\t\t\t\t\"bopomofo2\": \"jiàu shr̀\",\n",
      "\t\t\t\t\"definitions\": [\n",
      "\t\t\t\t\t{\n",
      "\t\t\t\t\t\t\"def\": \"學校裡進行教學活動的房間。\",\n",
      "\t\t\t\t\t\t\"example\": [\n",
      "\t\t\t\t\t\t\t\"如：「實驗教室」、「音樂教室」。\"\n",
      "\t\t\t\t\t\t],\n",
      "\t\t\t\t\t\t\"synonyms\": \"課堂,講堂\"\n",
      "\t\t\t\t\t}\n",
      "\t\t\t\t],\n",
      "\t\t\t\t\"pinyin\": \"jiào shì\"\n",
      "\t\t\t}\n",
      "\t\t],\n",
      "\t\t\"title\": \"教室\"\n",
      "\t}\n"
     ]
    }
   ],
   "source": [
    "print(r.text)"
   ]
  },
  {
   "cell_type": "code",
   "execution_count": 13,
   "id": "08339714-f817-4f9f-8ebd-c7fcb51d1433",
   "metadata": {
    "tags": []
   },
   "outputs": [
    {
     "data": {
      "text/plain": [
       "{'Date': 'Tue, 12 Mar 2024 01:24:45 GMT', 'Content-Type': 'application/json; charset=UTF-8', 'Transfer-Encoding': 'chunked', 'Connection': 'keep-alive', 'Last-Modified': 'Sun, 17 Feb 2013 21:20:12 GMT', 'ETag': 'W/\"5121498c-174\"', 'Access-Control-Allow-Origin': '*', 'Access-Control-Max-Age': '31536000', 'Strict-Transport-Security': 'max-age=0; preload', 'CF-Cache-Status': 'DYNAMIC', 'Report-To': '{\"endpoints\":[{\"url\":\"https:\\\\/\\\\/a.nel.cloudflare.com\\\\/report\\\\/v3?s=Crx0GX41qeU8jJcVNHOtQTesLRkzsUyGNN9Yrc6xSwfjUJHLhuq8A8roposGCULboOFaTf2WachrMQH%2F1VQpsD0Oo5XfDce04U%2FczCSCAJSk68%2FUFZiOL5S2glyEh2rLbOPXjXvrzEUQ%2Blxq\"}],\"group\":\"cf-nel\",\"max_age\":604800}', 'NEL': '{\"success_fraction\":0,\"report_to\":\"cf-nel\",\"max_age\":604800}', 'Server': 'cloudflare', 'CF-RAY': '862ffc886e7717e4-SJC', 'Content-Encoding': 'br'}"
      ]
     },
     "execution_count": 13,
     "metadata": {},
     "output_type": "execute_result"
    }
   ],
   "source": [
    "r.headers"
   ]
  },
  {
   "cell_type": "code",
   "execution_count": 14,
   "id": "198ff9c6-d5de-4ff7-8ad7-c88f574c0b4d",
   "metadata": {
    "tags": []
   },
   "outputs": [],
   "source": [
    "data = r.json()"
   ]
  },
  {
   "cell_type": "code",
   "execution_count": 15,
   "id": "bf57f71c-ae8e-4e02-80bd-089cb4eb3395",
   "metadata": {
    "tags": []
   },
   "outputs": [
    {
     "data": {
      "text/plain": [
       "{'heteronyms': [{'bopomofo': 'ㄐㄧㄠˋ ㄕˋ',\n",
       "   'bopomofo2': 'jiàu shr̀',\n",
       "   'definitions': [{'def': '學校裡進行教學活動的房間。',\n",
       "     'example': ['如：「實驗教室」、「音樂教室」。'],\n",
       "     'synonyms': '課堂,講堂'}],\n",
       "   'pinyin': 'jiào shì'}],\n",
       " 'title': '教室'}"
      ]
     },
     "execution_count": 15,
     "metadata": {},
     "output_type": "execute_result"
    }
   ],
   "source": [
    "data"
   ]
  },
  {
   "cell_type": "code",
   "execution_count": 21,
   "id": "5a663635-c827-44c4-8612-4ac5b3ddd40a",
   "metadata": {
    "tags": []
   },
   "outputs": [
    {
     "data": {
      "text/plain": [
       "[{'bopomofo': 'ㄐㄧㄠˋ ㄕˋ',\n",
       "  'bopomofo2': 'jiàu shr̀',\n",
       "  'definitions': [{'def': '學校裡進行教學活動的房間。',\n",
       "    'example': ['如：「實驗教室」、「音樂教室」。'],\n",
       "    'synonyms': '課堂,講堂'}],\n",
       "  'pinyin': 'jiào shì'}]"
      ]
     },
     "execution_count": 21,
     "metadata": {},
     "output_type": "execute_result"
    }
   ],
   "source": [
    "data['heteronyms']"
   ]
  },
  {
   "cell_type": "code",
   "execution_count": 22,
   "id": "6f204700-f1fe-4bb2-9e4d-684868958fef",
   "metadata": {
    "tags": []
   },
   "outputs": [
    {
     "data": {
      "text/plain": [
       "{'bopomofo': 'ㄐㄧㄠˋ ㄕˋ',\n",
       " 'bopomofo2': 'jiàu shr̀',\n",
       " 'definitions': [{'def': '學校裡進行教學活動的房間。',\n",
       "   'example': ['如：「實驗教室」、「音樂教室」。'],\n",
       "   'synonyms': '課堂,講堂'}],\n",
       " 'pinyin': 'jiào shì'}"
      ]
     },
     "execution_count": 22,
     "metadata": {},
     "output_type": "execute_result"
    }
   ],
   "source": [
    "data['heteronyms'][0]"
   ]
  },
  {
   "cell_type": "code",
   "execution_count": 23,
   "id": "fc0f75b0-4e9b-45ff-931c-cfcf532b26ef",
   "metadata": {
    "tags": []
   },
   "outputs": [
    {
     "data": {
      "text/plain": [
       "[{'def': '學校裡進行教學活動的房間。',\n",
       "  'example': ['如：「實驗教室」、「音樂教室」。'],\n",
       "  'synonyms': '課堂,講堂'}]"
      ]
     },
     "execution_count": 23,
     "metadata": {},
     "output_type": "execute_result"
    }
   ],
   "source": [
    "data['heteronyms'][0]['definitions']"
   ]
  },
  {
   "cell_type": "code",
   "execution_count": null,
   "id": "f0256ccc-8e79-4d0d-a906-8cd2855803e8",
   "metadata": {},
   "outputs": [],
   "source": []
  }
 ],
 "metadata": {
  "kernelspec": {
   "display_name": "Python 3 (ipykernel)",
   "language": "python",
   "name": "python3"
  },
  "language_info": {
   "codemirror_mode": {
    "name": "ipython",
    "version": 3
   },
   "file_extension": ".py",
   "mimetype": "text/x-python",
   "name": "python",
   "nbconvert_exporter": "python",
   "pygments_lexer": "ipython3",
   "version": "3.11.5"
  }
 },
 "nbformat": 4,
 "nbformat_minor": 5
}
