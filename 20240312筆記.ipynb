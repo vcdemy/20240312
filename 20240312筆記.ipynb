{
 "cells": [
  {
   "cell_type": "markdown",
   "id": "6d738ffc-8be7-41dc-982b-4c86c229ab17",
   "metadata": {},
   "source": [
    "# 20240312筆記"
   ]
  },
  {
   "cell_type": "markdown",
   "id": "13f63131-ce78-4fac-b765-607a68a55b70",
   "metadata": {},
   "source": [
    "## 複習萌典API的使用"
   ]
  },
  {
   "cell_type": "markdown",
   "id": "d1f73287-d677-49d2-8d39-7af9008d7cce",
   "metadata": {},
   "source": [
    "https://github.com/g0v/moedict-webkit"
   ]
  },
  {
   "cell_type": "code",
   "execution_count": 1,
   "id": "be77feab-efb7-480a-a377-ae8e2287bb25",
   "metadata": {
    "tags": []
   },
   "outputs": [],
   "source": [
    "import requests"
   ]
  },
  {
   "cell_type": "code",
   "execution_count": 2,
   "id": "6c4ba754-dcea-4bce-b097-38c391511c80",
   "metadata": {
    "tags": []
   },
   "outputs": [],
   "source": [
    "# 字串相加 - 01\n",
    "word = \"教室\"\n",
    "url = \"https://www.moedict.tw/uni/\" + word"
   ]
  },
  {
   "cell_type": "code",
   "execution_count": 5,
   "id": "f9994ef9-a855-4506-b8c6-a758c612889c",
   "metadata": {
    "tags": []
   },
   "outputs": [
    {
     "data": {
      "text/plain": [
       "'https://www.moedict.tw/uni/教室'"
      ]
     },
     "execution_count": 5,
     "metadata": {},
     "output_type": "execute_result"
    }
   ],
   "source": [
    "url"
   ]
  },
  {
   "cell_type": "code",
   "execution_count": 6,
   "id": "5bb196d6-2671-42c1-be7f-ef26b80a5e18",
   "metadata": {
    "tags": []
   },
   "outputs": [],
   "source": [
    "# 字串相加 - 02\n",
    "word = \"教室\"\n",
    "url = f\"https://www.moedict.tw/uni/{word}\""
   ]
  },
  {
   "cell_type": "code",
   "execution_count": 7,
   "id": "f2220f12-e61d-47d1-a285-035883abbdc1",
   "metadata": {
    "tags": []
   },
   "outputs": [
    {
     "data": {
      "text/plain": [
       "'https://www.moedict.tw/uni/教室'"
      ]
     },
     "execution_count": 7,
     "metadata": {},
     "output_type": "execute_result"
    }
   ],
   "source": [
    "url"
   ]
  },
  {
   "cell_type": "code",
   "execution_count": 8,
   "id": "d323e71c-49d8-42be-a38a-d0065b68483e",
   "metadata": {
    "tags": []
   },
   "outputs": [
    {
     "name": "stderr",
     "output_type": "stream",
     "text": [
      "C:\\Users\\victor\\anaconda3\\Lib\\site-packages\\urllib3\\connectionpool.py:1056: InsecureRequestWarning: Unverified HTTPS request is being made to host 'www.moedict.tw'. Adding certificate verification is strongly advised. See: https://urllib3.readthedocs.io/en/1.26.x/advanced-usage.html#ssl-warnings\n",
      "  warnings.warn(\n"
     ]
    }
   ],
   "source": [
    "r = requests.get(url, verify=False)"
   ]
  },
  {
   "cell_type": "code",
   "execution_count": 4,
   "id": "838f11ae-3cc5-4907-83c3-457ff975982d",
   "metadata": {
    "tags": []
   },
   "outputs": [
    {
     "name": "stdout",
     "output_type": "stream",
     "text": [
      "\t{\n",
      "\t\t\"heteronyms\": [\n",
      "\t\t\t{\n",
      "\t\t\t\t\"bopomofo\": \"ㄐㄧㄠˋ ㄕˋ\",\n",
      "\t\t\t\t\"bopomofo2\": \"jiàu shr̀\",\n",
      "\t\t\t\t\"definitions\": [\n",
      "\t\t\t\t\t{\n",
      "\t\t\t\t\t\t\"def\": \"學校裡進行教學活動的房間。\",\n",
      "\t\t\t\t\t\t\"example\": [\n",
      "\t\t\t\t\t\t\t\"如：「實驗教室」、「音樂教室」。\"\n",
      "\t\t\t\t\t\t],\n",
      "\t\t\t\t\t\t\"synonyms\": \"課堂,講堂\"\n",
      "\t\t\t\t\t}\n",
      "\t\t\t\t],\n",
      "\t\t\t\t\"pinyin\": \"jiào shì\"\n",
      "\t\t\t}\n",
      "\t\t],\n",
      "\t\t\"title\": \"教室\"\n",
      "\t}\n"
     ]
    }
   ],
   "source": [
    "print(r.text)"
   ]
  },
  {
   "cell_type": "code",
   "execution_count": 13,
   "id": "08339714-f817-4f9f-8ebd-c7fcb51d1433",
   "metadata": {
    "tags": []
   },
   "outputs": [
    {
     "data": {
      "text/plain": [
       "{'Date': 'Tue, 12 Mar 2024 01:24:45 GMT', 'Content-Type': 'application/json; charset=UTF-8', 'Transfer-Encoding': 'chunked', 'Connection': 'keep-alive', 'Last-Modified': 'Sun, 17 Feb 2013 21:20:12 GMT', 'ETag': 'W/\"5121498c-174\"', 'Access-Control-Allow-Origin': '*', 'Access-Control-Max-Age': '31536000', 'Strict-Transport-Security': 'max-age=0; preload', 'CF-Cache-Status': 'DYNAMIC', 'Report-To': '{\"endpoints\":[{\"url\":\"https:\\\\/\\\\/a.nel.cloudflare.com\\\\/report\\\\/v3?s=Crx0GX41qeU8jJcVNHOtQTesLRkzsUyGNN9Yrc6xSwfjUJHLhuq8A8roposGCULboOFaTf2WachrMQH%2F1VQpsD0Oo5XfDce04U%2FczCSCAJSk68%2FUFZiOL5S2glyEh2rLbOPXjXvrzEUQ%2Blxq\"}],\"group\":\"cf-nel\",\"max_age\":604800}', 'NEL': '{\"success_fraction\":0,\"report_to\":\"cf-nel\",\"max_age\":604800}', 'Server': 'cloudflare', 'CF-RAY': '862ffc886e7717e4-SJC', 'Content-Encoding': 'br'}"
      ]
     },
     "execution_count": 13,
     "metadata": {},
     "output_type": "execute_result"
    }
   ],
   "source": [
    "r.headers"
   ]
  },
  {
   "cell_type": "code",
   "execution_count": 14,
   "id": "198ff9c6-d5de-4ff7-8ad7-c88f574c0b4d",
   "metadata": {
    "tags": []
   },
   "outputs": [],
   "source": [
    "data = r.json()"
   ]
  },
  {
   "cell_type": "code",
   "execution_count": 15,
   "id": "bf57f71c-ae8e-4e02-80bd-089cb4eb3395",
   "metadata": {
    "tags": []
   },
   "outputs": [
    {
     "data": {
      "text/plain": [
       "{'heteronyms': [{'bopomofo': 'ㄐㄧㄠˋ ㄕˋ',\n",
       "   'bopomofo2': 'jiàu shr̀',\n",
       "   'definitions': [{'def': '學校裡進行教學活動的房間。',\n",
       "     'example': ['如：「實驗教室」、「音樂教室」。'],\n",
       "     'synonyms': '課堂,講堂'}],\n",
       "   'pinyin': 'jiào shì'}],\n",
       " 'title': '教室'}"
      ]
     },
     "execution_count": 15,
     "metadata": {},
     "output_type": "execute_result"
    }
   ],
   "source": [
    "data"
   ]
  },
  {
   "cell_type": "code",
   "execution_count": 21,
   "id": "5a663635-c827-44c4-8612-4ac5b3ddd40a",
   "metadata": {
    "tags": []
   },
   "outputs": [
    {
     "data": {
      "text/plain": [
       "[{'bopomofo': 'ㄐㄧㄠˋ ㄕˋ',\n",
       "  'bopomofo2': 'jiàu shr̀',\n",
       "  'definitions': [{'def': '學校裡進行教學活動的房間。',\n",
       "    'example': ['如：「實驗教室」、「音樂教室」。'],\n",
       "    'synonyms': '課堂,講堂'}],\n",
       "  'pinyin': 'jiào shì'}]"
      ]
     },
     "execution_count": 21,
     "metadata": {},
     "output_type": "execute_result"
    }
   ],
   "source": [
    "data['heteronyms']"
   ]
  },
  {
   "cell_type": "code",
   "execution_count": 22,
   "id": "6f204700-f1fe-4bb2-9e4d-684868958fef",
   "metadata": {
    "tags": []
   },
   "outputs": [
    {
     "data": {
      "text/plain": [
       "{'bopomofo': 'ㄐㄧㄠˋ ㄕˋ',\n",
       " 'bopomofo2': 'jiàu shr̀',\n",
       " 'definitions': [{'def': '學校裡進行教學活動的房間。',\n",
       "   'example': ['如：「實驗教室」、「音樂教室」。'],\n",
       "   'synonyms': '課堂,講堂'}],\n",
       " 'pinyin': 'jiào shì'}"
      ]
     },
     "execution_count": 22,
     "metadata": {},
     "output_type": "execute_result"
    }
   ],
   "source": [
    "data['heteronyms'][0]"
   ]
  },
  {
   "cell_type": "code",
   "execution_count": 23,
   "id": "fc0f75b0-4e9b-45ff-931c-cfcf532b26ef",
   "metadata": {
    "tags": []
   },
   "outputs": [
    {
     "data": {
      "text/plain": [
       "[{'def': '學校裡進行教學活動的房間。',\n",
       "  'example': ['如：「實驗教室」、「音樂教室」。'],\n",
       "  'synonyms': '課堂,講堂'}]"
      ]
     },
     "execution_count": 23,
     "metadata": {},
     "output_type": "execute_result"
    }
   ],
   "source": [
    "data['heteronyms'][0]['definitions']"
   ]
  },
  {
   "cell_type": "code",
   "execution_count": 26,
   "id": "f0256ccc-8e79-4d0d-a906-8cd2855803e8",
   "metadata": {
    "tags": []
   },
   "outputs": [
    {
     "data": {
      "text/plain": [
       "{'def': '學校裡進行教學活動的房間。', 'example': ['如：「實驗教室」、「音樂教室」。'], 'synonyms': '課堂,講堂'}"
      ]
     },
     "execution_count": 26,
     "metadata": {},
     "output_type": "execute_result"
    }
   ],
   "source": [
    "data['heteronyms'][0]['definitions'][0]"
   ]
  },
  {
   "cell_type": "code",
   "execution_count": 27,
   "id": "efb6675a-6975-494f-b8f4-04413635b4de",
   "metadata": {
    "tags": []
   },
   "outputs": [
    {
     "data": {
      "text/plain": [
       "'學校裡進行教學活動的房間。'"
      ]
     },
     "execution_count": 27,
     "metadata": {},
     "output_type": "execute_result"
    }
   ],
   "source": [
    "data['heteronyms'][0]['definitions'][0]['def']"
   ]
  },
  {
   "cell_type": "markdown",
   "id": "f5033a89-1ae1-4adf-98eb-dff4cdd2fed4",
   "metadata": {},
   "source": [
    "## 複習縮排"
   ]
  },
  {
   "cell_type": "code",
   "execution_count": 28,
   "id": "db1b01b3-7300-43e9-9ced-401faa64f8b1",
   "metadata": {
    "tags": []
   },
   "outputs": [
    {
     "name": "stdout",
     "output_type": "stream",
     "text": [
      "程式區塊開始!\n",
      "0\n",
      "程式區塊結束!\n",
      "程式區塊開始!\n",
      "1\n",
      "程式區塊結束!\n",
      "程式區塊開始!\n",
      "2\n",
      "程式區塊結束!\n"
     ]
    }
   ],
   "source": [
    "for i in range(3):\n",
    "    print(\"程式區塊開始!\")\n",
    "    print(i)\n",
    "    print(\"程式區塊結束!\")"
   ]
  },
  {
   "cell_type": "code",
   "execution_count": 29,
   "id": "f2864691-be08-4902-830e-6e3566daa920",
   "metadata": {
    "tags": []
   },
   "outputs": [
    {
     "name": "stdout",
     "output_type": "stream",
     "text": [
      "程式區塊開始!\n",
      "0\n",
      "程式區塊開始!\n",
      "1\n",
      "程式區塊開始!\n",
      "2\n",
      "程式區塊結束!\n"
     ]
    }
   ],
   "source": [
    "for i in range(3):\n",
    "    print(\"程式區塊開始!\")\n",
    "    print(i)\n",
    "print(\"程式區塊結束!\")"
   ]
  },
  {
   "cell_type": "code",
   "execution_count": 30,
   "id": "a9d03ce8-0017-4fbc-8f0d-ac131d8fd77a",
   "metadata": {
    "tags": []
   },
   "outputs": [
    {
     "ename": "IndentationError",
     "evalue": "expected an indented block after 'for' statement on line 1 (731320291.py, line 2)",
     "output_type": "error",
     "traceback": [
      "\u001b[1;36m  Cell \u001b[1;32mIn[30], line 2\u001b[1;36m\u001b[0m\n\u001b[1;33m    print(\"程式區塊開始!\")\u001b[0m\n\u001b[1;37m    ^\u001b[0m\n\u001b[1;31mIndentationError\u001b[0m\u001b[1;31m:\u001b[0m expected an indented block after 'for' statement on line 1\n"
     ]
    }
   ],
   "source": [
    "for i in range(3):\n",
    "print(\"程式區塊開始!\")\n",
    "print(i)\n",
    "print(\"程式區塊結束!\")"
   ]
  },
  {
   "cell_type": "markdown",
   "id": "52b1d0a3-9c1b-4c56-a483-e9514b57bb3e",
   "metadata": {},
   "source": [
    "## gradio使用簡介"
   ]
  },
  {
   "cell_type": "code",
   "execution_count": null,
   "id": "da228830-2ca2-4238-bb03-f49fb29a95c8",
   "metadata": {},
   "outputs": [],
   "source": [
    "!pip install gradio"
   ]
  },
  {
   "cell_type": "code",
   "execution_count": 31,
   "id": "47a0c871-d05e-4397-bf37-b69f5b7f9d30",
   "metadata": {
    "tags": []
   },
   "outputs": [],
   "source": [
    "import gradio as gr"
   ]
  },
  {
   "cell_type": "code",
   "execution_count": 32,
   "id": "77c5827c-5727-4413-9b4d-8057d4765c50",
   "metadata": {
    "tags": []
   },
   "outputs": [],
   "source": [
    "def lookup(word):\n",
    "    url = f\"https://www.moedict.tw/uni/{word}\"\n",
    "    # r = requests.get(url, verify=False)\n",
    "    # data = r.json()\n",
    "    data = requests.get(url, verify=False).json()\n",
    "    return data['heteronyms'][0]['definitions'][0]['def']"
   ]
  },
  {
   "cell_type": "code",
   "execution_count": 33,
   "id": "ccee0ffc-e95d-4984-8c78-d57ef08922be",
   "metadata": {
    "collapsed": true,
    "jupyter": {
     "outputs_hidden": true
    },
    "tags": []
   },
   "outputs": [
    {
     "name": "stderr",
     "output_type": "stream",
     "text": [
      "C:\\Users\\victor\\anaconda3\\Lib\\site-packages\\urllib3\\connectionpool.py:1056: InsecureRequestWarning: Unverified HTTPS request is being made to host 'www.moedict.tw'. Adding certificate verification is strongly advised. See: https://urllib3.readthedocs.io/en/1.26.x/advanced-usage.html#ssl-warnings\n",
      "  warnings.warn(\n"
     ]
    },
    {
     "data": {
      "text/plain": [
       "'依公司法登記成立的社團法人營利企業組織。可分無限公司、有限公司、股份有限公司、兩合公司、股份兩合公司等五類。'"
      ]
     },
     "execution_count": 33,
     "metadata": {},
     "output_type": "execute_result"
    }
   ],
   "source": [
    "lookup('公司')"
   ]
  },
  {
   "cell_type": "code",
   "execution_count": 34,
   "id": "dbd6d2e2-f6b2-4019-a721-118cfce62fad",
   "metadata": {
    "tags": []
   },
   "outputs": [
    {
     "name": "stdout",
     "output_type": "stream",
     "text": [
      "Running on local URL:  http://127.0.0.1:7860\n",
      "\n",
      "To create a public link, set `share=True` in `launch()`.\n"
     ]
    },
    {
     "data": {
      "text/html": [
       "<div><iframe src=\"http://127.0.0.1:7860/\" width=\"100%\" height=\"500\" allow=\"autoplay; camera; microphone; clipboard-read; clipboard-write;\" frameborder=\"0\" allowfullscreen></iframe></div>"
      ],
      "text/plain": [
       "<IPython.core.display.HTML object>"
      ]
     },
     "metadata": {},
     "output_type": "display_data"
    },
    {
     "data": {
      "text/plain": []
     },
     "execution_count": 34,
     "metadata": {},
     "output_type": "execute_result"
    },
    {
     "name": "stderr",
     "output_type": "stream",
     "text": [
      "C:\\Users\\victor\\anaconda3\\Lib\\site-packages\\urllib3\\connectionpool.py:1056: InsecureRequestWarning: Unverified HTTPS request is being made to host 'www.moedict.tw'. Adding certificate verification is strongly advised. See: https://urllib3.readthedocs.io/en/1.26.x/advanced-usage.html#ssl-warnings\n",
      "  warnings.warn(\n",
      "C:\\Users\\victor\\anaconda3\\Lib\\site-packages\\urllib3\\connectionpool.py:1056: InsecureRequestWarning: Unverified HTTPS request is being made to host 'www.moedict.tw'. Adding certificate verification is strongly advised. See: https://urllib3.readthedocs.io/en/1.26.x/advanced-usage.html#ssl-warnings\n",
      "  warnings.warn(\n",
      "C:\\Users\\victor\\anaconda3\\Lib\\site-packages\\urllib3\\connectionpool.py:1056: InsecureRequestWarning: Unverified HTTPS request is being made to host 'www.moedict.tw'. Adding certificate verification is strongly advised. See: https://urllib3.readthedocs.io/en/1.26.x/advanced-usage.html#ssl-warnings\n",
      "  warnings.warn(\n",
      "Traceback (most recent call last):\n",
      "  File \"C:\\Users\\victor\\anaconda3\\Lib\\site-packages\\gradio\\routes.py\", line 534, in predict\n",
      "    output = await route_utils.call_process_api(\n",
      "             ^^^^^^^^^^^^^^^^^^^^^^^^^^^^^^^^^^^\n",
      "  File \"C:\\Users\\victor\\anaconda3\\Lib\\site-packages\\gradio\\route_utils.py\", line 226, in call_process_api\n",
      "    output = await app.get_blocks().process_api(\n",
      "             ^^^^^^^^^^^^^^^^^^^^^^^^^^^^^^^^^^^\n",
      "  File \"C:\\Users\\victor\\anaconda3\\Lib\\site-packages\\gradio\\blocks.py\", line 1550, in process_api\n",
      "    result = await self.call_function(\n",
      "             ^^^^^^^^^^^^^^^^^^^^^^^^^\n",
      "  File \"C:\\Users\\victor\\anaconda3\\Lib\\site-packages\\gradio\\blocks.py\", line 1185, in call_function\n",
      "    prediction = await anyio.to_thread.run_sync(\n",
      "                 ^^^^^^^^^^^^^^^^^^^^^^^^^^^^^^^\n",
      "  File \"C:\\Users\\victor\\anaconda3\\Lib\\site-packages\\anyio\\to_thread.py\", line 33, in run_sync\n",
      "    return await get_asynclib().run_sync_in_worker_thread(\n",
      "           ^^^^^^^^^^^^^^^^^^^^^^^^^^^^^^^^^^^^^^^^^^^^^^^\n",
      "  File \"C:\\Users\\victor\\anaconda3\\Lib\\site-packages\\anyio\\_backends\\_asyncio.py\", line 877, in run_sync_in_worker_thread\n",
      "    return await future\n",
      "           ^^^^^^^^^^^^\n",
      "  File \"C:\\Users\\victor\\anaconda3\\Lib\\site-packages\\anyio\\_backends\\_asyncio.py\", line 807, in run\n",
      "    result = context.run(func, *args)\n",
      "             ^^^^^^^^^^^^^^^^^^^^^^^^\n",
      "  File \"C:\\Users\\victor\\anaconda3\\Lib\\site-packages\\gradio\\utils.py\", line 661, in wrapper\n",
      "    response = f(*args, **kwargs)\n",
      "               ^^^^^^^^^^^^^^^^^^\n",
      "  File \"C:\\Users\\victor\\AppData\\Local\\Temp\\ipykernel_18320\\1266020758.py\", line 6, in lookup\n",
      "    return data['heteronyms'][0]['definitions'][0]['def']\n",
      "           ~~~~^^^^^^^^^^^^^^\n",
      "KeyError: 'heteronyms'\n"
     ]
    }
   ],
   "source": [
    "gr.Interface(lookup, \"text\", \"text\").launch()"
   ]
  },
  {
   "cell_type": "code",
   "execution_count": 35,
   "id": "f747ab99-efaf-4796-89f6-1ba173577ab7",
   "metadata": {
    "tags": []
   },
   "outputs": [
    {
     "name": "stdout",
     "output_type": "stream",
     "text": [
      "Running on local URL:  http://127.0.0.1:7861\n",
      "\n",
      "To create a public link, set `share=True` in `launch()`.\n"
     ]
    },
    {
     "data": {
      "text/html": [
       "<div><iframe src=\"http://127.0.0.1:7861/\" width=\"100%\" height=\"500\" allow=\"autoplay; camera; microphone; clipboard-read; clipboard-write;\" frameborder=\"0\" allowfullscreen></iframe></div>"
      ],
      "text/plain": [
       "<IPython.core.display.HTML object>"
      ]
     },
     "metadata": {},
     "output_type": "display_data"
    },
    {
     "data": {
      "text/plain": []
     },
     "execution_count": 35,
     "metadata": {},
     "output_type": "execute_result"
    }
   ],
   "source": [
    "gr.Interface(lookup, \"text\", \"text\", title=\"國語辭典\").launch()"
   ]
  },
  {
   "cell_type": "code",
   "execution_count": 36,
   "id": "4a33b438-6bf9-4f3c-80cc-08f4efec0dc9",
   "metadata": {
    "tags": []
   },
   "outputs": [],
   "source": [
    "def lookup(word):\n",
    "    try:\n",
    "        url = f\"https://www.moedict.tw/uni/{word}\"\n",
    "        data = requests.get(url, verify=False).json()\n",
    "        return data['heteronyms'][0]['definitions'][0]['def']\n",
    "    except Exception:\n",
    "        return \"資料查詢錯誤！可能是查不到該名詞！\""
   ]
  },
  {
   "cell_type": "code",
   "execution_count": 37,
   "id": "ff4e9787-5068-4924-8fd8-e3eb840386b0",
   "metadata": {
    "tags": []
   },
   "outputs": [
    {
     "name": "stdout",
     "output_type": "stream",
     "text": [
      "Running on local URL:  http://127.0.0.1:7862\n",
      "\n",
      "To create a public link, set `share=True` in `launch()`.\n"
     ]
    },
    {
     "data": {
      "text/html": [
       "<div><iframe src=\"http://127.0.0.1:7862/\" width=\"100%\" height=\"500\" allow=\"autoplay; camera; microphone; clipboard-read; clipboard-write;\" frameborder=\"0\" allowfullscreen></iframe></div>"
      ],
      "text/plain": [
       "<IPython.core.display.HTML object>"
      ]
     },
     "metadata": {},
     "output_type": "display_data"
    },
    {
     "data": {
      "text/plain": []
     },
     "execution_count": 37,
     "metadata": {},
     "output_type": "execute_result"
    },
    {
     "name": "stderr",
     "output_type": "stream",
     "text": [
      "C:\\Users\\victor\\anaconda3\\Lib\\site-packages\\urllib3\\connectionpool.py:1056: InsecureRequestWarning: Unverified HTTPS request is being made to host 'www.moedict.tw'. Adding certificate verification is strongly advised. See: https://urllib3.readthedocs.io/en/1.26.x/advanced-usage.html#ssl-warnings\n",
      "  warnings.warn(\n"
     ]
    }
   ],
   "source": [
    "gr.Interface(lookup, \"text\", \"text\", title=\"國語辭典\").launch()"
   ]
  },
  {
   "cell_type": "code",
   "execution_count": 38,
   "id": "a034e863-9231-4fa7-91ce-deac2d78e6c8",
   "metadata": {
    "tags": []
   },
   "outputs": [
    {
     "name": "stdout",
     "output_type": "stream",
     "text": [
      "Running on local URL:  http://127.0.0.1:7863\n",
      "\n",
      "Could not create share link. Please check your internet connection or our status page: https://status.gradio.app.\n"
     ]
    },
    {
     "data": {
      "text/html": [
       "<div><iframe src=\"http://127.0.0.1:7863/\" width=\"100%\" height=\"500\" allow=\"autoplay; camera; microphone; clipboard-read; clipboard-write;\" frameborder=\"0\" allowfullscreen></iframe></div>"
      ],
      "text/plain": [
       "<IPython.core.display.HTML object>"
      ]
     },
     "metadata": {},
     "output_type": "display_data"
    },
    {
     "data": {
      "text/plain": []
     },
     "execution_count": 38,
     "metadata": {},
     "output_type": "execute_result"
    }
   ],
   "source": [
    "gr.Interface(lookup, \"text\", \"text\", title=\"國語辭典\").launch(share=True)"
   ]
  },
  {
   "cell_type": "markdown",
   "id": "9d3e1070-d7e0-4f1e-b4f3-798d2f587c52",
   "metadata": {},
   "source": [
    "## OpenStreetMap Geocoding API 使用練習"
   ]
  },
  {
   "cell_type": "markdown",
   "id": "8146e8db-2e4b-430a-b62c-48ea13a6e9c5",
   "metadata": {},
   "source": [
    "https://nominatim.org/release-docs/develop/api/Search/"
   ]
  },
  {
   "cell_type": "code",
   "execution_count": 39,
   "id": "64e4efe0-7521-4519-950e-66548e41591f",
   "metadata": {
    "tags": []
   },
   "outputs": [],
   "source": [
    "url = \"https://nominatim.openstreetmap.org/search?format=json&q='高雄市'\""
   ]
  },
  {
   "cell_type": "code",
   "execution_count": 40,
   "id": "0d1c094b-a1c4-4f9b-8a95-8aa16e2124f4",
   "metadata": {
    "tags": []
   },
   "outputs": [
    {
     "name": "stderr",
     "output_type": "stream",
     "text": [
      "C:\\Users\\victor\\anaconda3\\Lib\\site-packages\\urllib3\\connectionpool.py:1056: InsecureRequestWarning: Unverified HTTPS request is being made to host 'nominatim.openstreetmap.org'. Adding certificate verification is strongly advised. See: https://urllib3.readthedocs.io/en/1.26.x/advanced-usage.html#ssl-warnings\n",
      "  warnings.warn(\n"
     ]
    },
    {
     "data": {
      "text/plain": [
       "[{'place_id': 237395083,\n",
       "  'licence': 'Data © OpenStreetMap contributors, ODbL 1.0. http://osm.org/copyright',\n",
       "  'osm_type': 'relation',\n",
       "  'osm_id': 2127079,\n",
       "  'lat': '22.6203348',\n",
       "  'lon': '120.3120375',\n",
       "  'class': 'boundary',\n",
       "  'type': 'administrative',\n",
       "  'place_rank': 8,\n",
       "  'importance': 0.5951571765063468,\n",
       "  'addresstype': 'city',\n",
       "  'name': '高雄市',\n",
       "  'display_name': '高雄市, 臺灣',\n",
       "  'boundingbox': ['10.3447222', '23.4716871', '114.3072222', '121.0490355']}]"
      ]
     },
     "execution_count": 40,
     "metadata": {},
     "output_type": "execute_result"
    }
   ],
   "source": [
    "requests.get(url, verify=False).json()"
   ]
  },
  {
   "cell_type": "code",
   "execution_count": null,
   "id": "ea3e1dc5-170c-4348-a219-77b177a32299",
   "metadata": {},
   "outputs": [],
   "source": []
  }
 ],
 "metadata": {
  "kernelspec": {
   "display_name": "Python 3 (ipykernel)",
   "language": "python",
   "name": "python3"
  },
  "language_info": {
   "codemirror_mode": {
    "name": "ipython",
    "version": 3
   },
   "file_extension": ".py",
   "mimetype": "text/x-python",
   "name": "python",
   "nbconvert_exporter": "python",
   "pygments_lexer": "ipython3",
   "version": "3.11.5"
  }
 },
 "nbformat": 4,
 "nbformat_minor": 5
}
